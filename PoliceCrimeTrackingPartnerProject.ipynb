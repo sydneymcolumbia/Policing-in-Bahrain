
    {
      "cell_type": "markdown",
      "source": [
        "Questions we want to ask:\n",
        "[Dhruv's Article](https://themarkup.org/prediction-bias/2021/12/02/crime-prediction-software-promised-to-be-free-of-biases-new-data-shows-it-perpetuates-them)\n",
        "\n",
        "* Can you find predictions that likely resulted from bad data being ingested by the algorithm ie; robberies predicted at police stations because the algorithm predicted crime where the report was taken, not where the alleged crime occured?\n",
        "\n",
        "According to the federal Bureau of Justice Statistics (BJS), only 40 percent of violent crimes and less than a third of property crimes were reported to police in 2020, which is in line with prior years. This means that more than two thirds of the crimes are not being reported and we don't have data on the reporting location like we do for the others. So even though the location from which the crime was reported instead of the actual locatin of the crime is ebign reported, the lack of data in general brings up even more of an issue and inaccuracy in any conclusions made based on it.\n",
        "\n",
        "* High Stakes Patrols. If used as intended, the algorithm would have sent officers to patrol some public housing complexes dozens of times a shift. Becauses of Zero Crime Ordinances in some of these jurisdictions, any police contact for these residents could lead to an eviction. Are there other high stakes areas where the software predicted crime. Schools?\n",
        "\n",
        "* A Client in Bahrain. One of the biggest mysteries in our data was that from Dec 2018 - July 2019, 2000 predictions for protests were made in Bahrain for an unknown client. That an American Law Enforcement company was used to predict protests in a country with a documented history of human rights violations is troubling, however we don't know much about the context...\n",
        "\n",
        "\n",
        "\n",
        "\n"
      ],
      "metadata": {
        "id": "JFCz37Vt3vGH"
      }
    },
    {
      "cell_type": "code",
      "source": [],
      "metadata": {
        "id": "a90jWSkRMINm"
      },
      "execution_count": null,
      "outputs": []
    },
    {
      "cell_type": "markdown",
      "source": [
        "Pitch\n",
        "\n",
        "A Client in Bahrain\n",
        "\n",
        "*  [Can Bahrain predict a protest?](https://www.codastory.com/newsletters/bahrain-protest-prediction/)\n",
        "\n",
        "*   Predictions map visualization https://colab.research.google.com/drive/1bOZM_bm9u-cz4O1CdSRpV9Htj9kD53w_#scrollTo=Sw6RKdfRD4N8&uniqifier=1\n",
        "\n",
        "*   Why does Bahrain want to predict a protest?\n",
        "\n",
        " [2011 Bahraini uprising](https://en.wikipedia.org/wiki/2011_Bahraini_uprising#2019)\n",
        "\n",
        " The situation in recent years\n",
        "\n",
        "*  Why do some areas have more predictions than others? For example, why does the address ‘Rd No 7121’ have the most? Can we find some socio-economic data to explain?(if we can, visualize it in the map)\n",
        "\n",
        "*  What happened during 2018-12-01 to 2019-07-16 in Bahrain? Any changes? Look into the data by month?\n",
        "\n",
        "*  Acutal protest data? Who requested the predicition to be made? Look at change in policy that people could be protesting? - news articles during that time (huge events durign that time period) - lack of protest data outsite of this time.\n",
        "\n",
        "*  Why did this prediction stop?\n",
        "\n",
        "\n",
        "\n",
        "\n"
      ],
      "metadata": {
        "id": "WuqrLN0Ycjng"
      }
    },
    {
      "cell_type": "code",
      "source": [
        "from pandas import read_csv\n",
        "from google.colab import files\n",
        "b = read_csv('bahraindemo.csv',parse_dates=[\"date\"])\n",
        "\n",
        "from pandas.core.groupby import groupby\n",
        "b_big = b.groupby([\"lat\",\"lon\",\"address\"],as_index=False)[\"report_id\"].count()\n",
        "b_big.rename(columns={\"report_id\":\"count\"},inplace=True)\n",
        "\n",
        "from plotly.express import set_mapbox_access_token, scatter_mapbox\n",
        "\n",
        "# we need a token to render the map - it costs nothing https://www.mapbox.com/\n",
        "set_mapbox_access_token(\"pk.eyJ1IjoiY29jdGVhdTAiLCJhIjoiY2t6aDhtZmhuMGVmYTJ2bXBkNXpseWZvaiJ9.TXKUaAKTQ5iMf7043QkbPg\")\n"
      ],
      "metadata": {
        "id": "SVX6sLlaGG6A"
      },
      "execution_count": null,
      "outputs": []
    },
    {
      "cell_type": "code",
      "source": [
        "protests = read_csv(\"https://raw.githubusercontent.com/cocteau/CJ2022/main/data/2019-02-12-2022-02-15-Bahrain.csv\",parse_dates=[\"event_date\"])\n",
        "big_protests = protests.groupby([\"latitude\",\"longitude\"],as_index=False)[\"data_id\"].count()\n",
        "big_protests.rename(columns={\"data_id\":\"count\"},inplace=True)"
      ],
      "metadata": {
        "id": "ljORuEgwFaOT"
      },
      "execution_count": null,
      "outputs": []
    },
    {
      "cell_type": "code",
      "source": [
        "places = read_csv('https://raw.githubusercontent.com/cocteau/CJ2022/main/data/Bahrain.csv')"
      ],
      "metadata": {
        "id": "PmkPskeGhBMC"
      },
      "execution_count": null,
      "outputs": []
    },
    {
      "cell_type": "markdown",
      "source": [
        "# 1. The address with the most predictions(Rd No 7121) is close to the address with the most real protests(26.2175, 50.5069).\n",
        "\n",
        "# They are both in the populated place of [Abu Saiba](https://www.google.com/search?q=%22Abu+Saiba+protests%22+-wikipedia&tbs=ar%3A1&tbm=nws&ei=_wEQYt9G3aSm1A-UjJGQBg&ved=0ahUKEwifwtWTjIr2AhVdkokEHRRGBGIQ4dUDCA0&uact=5&oq=%22Abu+Saiba+protests%22+-wikipedia&gs_lcp=Cgxnd3Mtd2l6LW5ld3MQA1D4C1ixH2DcJGgAcAB4AIABXYgBhASSAQIxMZgBAKABAcABAQ&sclient=gws-wiz-news).\n"
      ],
      "metadata": {
        "id": "SENkiwFnii3p"
      }
    },
    {
      "cell_type": "markdown",
      "source": [
        "[Abu Saiba - Bahrain mirror](http://bahrainmirror.com/en/tag/3040.html)\n",
        "\n",
        "[Bahrainis rally to voice solidarity with political inmates, demand their freedom](https://www.presstv.ir/Detail/2021/04/03/648642/Bahrainis-rally-to-voice-solidarity-with-political-inmates-demand-their-freedom)\n",
        "\n",
        "[Bahraini Protesters Rally to Express Solidarity with Political Prisoners](https://www.tasnimnews.com/en/news/2021/04/03/2478141/bahraini-protesters-rally-to-express-solidarity-with-political-prisoners)\n",
        "\n",
        "[Bahrain: Residents of Abu Saiba and Al-Shakhoura protest against their house raids](https://www.youtube.com/watch?v=cKWWWBkal2I)"
      ],
      "metadata": {
        "id": "_zwsEYmXeOqm"
      }
    },
    {
      "cell_type": "code",
      "source": [
        "#visualize predictions, actual protests, places on the map\n",
        "#predictions\n",
        "fig = scatter_mapbox(b_big,\n",
        "               lat=\"lat\",\n",
        "               lon=\"lon\",\n",
        "               size=\"count\",\n",
        "               color_discrete_sequence=[\"fuchsia\"],\n",
        "               hover_name = \"address\",\n",
        "               width=900,\n",
        "               height=700,\n",
        "               mapbox_style=\"satellite\")\n",
        "\n",
        "import plotly.graph_objects as go\n",
        "\n",
        "#places\n",
        "fig_2 = fig.add_scattermapbox(lat=places[\"LATITUDE\"],\n",
        "                      lon=places[\"LONGITUDE\"],\n",
        "                      text = places[\"GEO\\nASCII\\nname\"]+\" \"+places[\"FEATURE CODE\\nDESCRIPTION\"])\n",
        "\n",
        "#protests\n",
        "fig_2.add_scattermapbox(lat=big_protests[\"latitude\"],\n",
        "                      lon=big_protests[\"longitude\"],\n",
        "                      marker = go.scattermapbox.Marker(size=big_protests[\"count\"]/5,color=\"cyan\"),\n",
        "                    )"
      ],
      "metadata": {
        "colab": {
          "base_uri": "https://localhost:8080/",
          "height": 717
        },
        "id": "28Cx45XRGE6J",
        "outputId": "8334d268-12bc-47c0-f7de-e34c2fd1a8b2"
      },
      "execution_count": null,
      "outputs": [
        {
          "output_type": "display_data",
          "data": {
            "text/html": [
              "<html>\n",
              "<head><meta charset=\"utf-8\" /></head>\n",
              "<body>\n",
              "    <div>            <script src=\"https://cdnjs.cloudflare.com/ajax/libs/mathjax/2.7.5/MathJax.js?config=TeX-AMS-MML_SVG\"></script><script type=\"text/javascript\">if (window.MathJax) {MathJax.Hub.Config({SVG: {font: \"STIX-Web\"}});}</script>                <script type=\"text/javascript\">window.PlotlyConfig = {MathJaxConfig: 'local'};</script>\n",
              "        <script src=\"https://cdn.plot.ly/plotly-2.8.3.min.js\"></script>                <div id=\"60a7ca1c-9bf0-4766-9516-7ae81adc0721\" class=\"plotly-graph-div\" style=\"height:700px; width:900px;\"></div>            <script type=\"text/javascript\">                                    window.PLOTLYENV=window.PLOTLYENV || {};                                    if (document.getElementById(\"60a7ca1c-9bf0-4766-9516-7ae81adc0721\")) {                    Plotly.newPlot(                        \"60a7ca1c-9bf0-4766-9516-7ae81adc0721\",                        [{\"hovertemplate\":\"<b>%{hovertext}</b><br><br>count=%{marker.size}<br>lat=%{lat}<br>lon=%{lon}<extra></extra>\",\"hovertext\":[\"Rd No 3449\",\"Rd No 2635\",\"Rd No 3401\",\"Lane No 4322\",\"Rd No 1030\",\"Rd No 2339\",\"5831 Rd No 5822\",\"Rd No 733\",\"\\u0645\\u0633\\u062c\\u062f \\u0627\\u0644\\u0648\\u0637\\u064a\\u0629\\u060c Rd No 2308\",\"Avenue 55-shop 120 -block 439\\u060c\\u060c North Sehla\",\"Avenue 25\",\"Rd No 7121\",\"Rd No 2579\",\"Rd No 3621\",\"Al Nakheel Ave\",\"Rd No 833\",\"Alabd Alsaleh\",\"88 Karrana Ave\",\"\\u0637\\u0631\\u064a\\u0642 : 3423\",\"Rd No 3631\"],\"lat\":[26.0986,26.1161,26.1336,26.1349,26.143,26.143,26.151,26.1551,26.1941,26.2022,26.2116,26.217,26.217,26.2183,26.2197,26.2278,26.2291,26.2291,26.2305,26.2802],\"legendgroup\":\"\",\"lon\":[50.4868,50.4823,50.6091,50.5972,50.4599,50.6106,50.4972,50.6211,50.4823,50.5301,50.5375,50.5062,50.533,50.4704,50.5226,50.5852,50.4808,50.5092,50.5301,50.6345],\"marker\":{\"color\":\"fuchsia\",\"size\":[96,57,142,101,82,89,109,65,47,64,84,163,160,151,65,100,71,115,92,57],\"sizemode\":\"area\",\"sizeref\":0.4075},\"mode\":\"markers\",\"name\":\"\",\"showlegend\":false,\"subplot\":\"mapbox\",\"type\":\"scattermapbox\"},{\"lat\":[26.18333,26.11667,26.03333,26.1,26.25,26.21667,26.21667,25.86667,26.16667,26.15,25.34667,26.23667,26.15722,26.28611,26.13333,25.90222,26.11667,26.2225,26.20722,25.9,25.88556,26.21667,26.26694,26.56528,26.11667,26.55,26.2,26.2,26.28333,25.55,26.16333,26.43333,26.18333,26.08333,26.27194,26.3,26.4,26.17639,26.185,26.20889,26.23213,26.2,26.28333,25.63333,26.25947,26.31694,26.2,26.24889,25.96372,25.90111,26.16722,26.16278,26.32917,26.33139,26.18,26.16667,26.1,26.21667,26.19472,26.15,26.47889,26.2,26.38333,26.25,26.11889,26.2,26.17833,26.28333,26.09417,26.26639,26.25,26.13556,26.21139,26.235,25.66667,26.39972,26.26583,26.26667,26.25,25.97694,25.6675,26.23722,25.9975,25.96667,26.15,26.14472,26.2,26.56556,26.2,26.2,26.23861,26.15528,26.31778,26.18509,25.89278,26.15,26.2,26.21667,26.08667,26.18333,26.23611,26.23333,26.02944,26.13333,26.01111,26.21667,26.0,25.95917,26.0025,26.19507,26.15917,26.01111,26.21667,26.22833,26.2025,26.18694,26.21139,26.16278,26.15472,26.07528,26.19417,26.15028,26.22722,26.28,26.18306,26.105,26.08278,26.28333,26.2,26.27333,26.23333,26.22139,26.16417,26.21083,26.21667,26.16944,26.17361,26.16667,26.18333,26.11556,26.22917,26.23028,26.18333,25.88333,26.16944,26.21861,26.17917,26.23333,25.99861,26.23056,26.2,26.21722,26.2,26.22139,26.23333,26.11528,26.11667,26.24278,26.23889,26.25,26.24444,26.17333,26.12639,26.06861,26.15139,26.20472,26.20778,26.21167,26.22944,26.20972,26.21528,26.25528,26.0475,26.21667,26.08444,26.21556,26.0625,26.05722,26.21472,26.23333,25.92043,26.12389,26.1375,26.13278,26.25611,26.13472,26.02111,26.19722,26.18278,26.17222,26.21556,26.20667,26.21222,26.21972,26.25722,26.21028,26.22787,25.92417,26.09806,26.21222,26.13333,26.16361,26.21056,26.18194,26.16222,26.19,26.22306,26.16194,26.18333,26.14333,26.21111,26.24556,26.20549,26.26944,26.21306,26.22528,25.98813,26.14306,26.21722,25.97889,26.21806,26.28417,26.2175,26.2075,26.20556,26.20167,26.13,25.98083,26.23967,26.21111,26.16298,26.21782,26.21604,26.2397,26.23046,26.11667,26.14444,26.16667,26.11667,26.2525,26.23333,26.24139,26.03333,26.15,26.16667,26.06667,26.27083,26.11667,26.08333,26.21667,26.1,25.96722,26.1,25.99,26.05167,26.03485,26.23754,26.2227,26.2644,26.24,26.2166,26.0668,26.2166,26.2166,26.2166,26.2166,26.0668,26.0668,26.2166,26.2166,26.23344,26.03549,26.0325,26.22353,26.23487,26.2166,26.22129,26.22857,26.23239,26.21329,26.21499,26.24224,26.22094,26.22803,26.21399,26.23248,26.24367,26.23371,26.23319,26.24581,26.23924,26.21877,26.20877,26.28702,26.22663,26.21721,26.0667,26.237,26.241,26.217,26.217,26.21576,26.216,26.23336,26.2304,26.2179,26.2331,26.21488,26.2185,26.21397,26.05343,26.22062,26.2166,26.23258,26.21208,26.19394,26.2285,26.19454,26.23479,26.21025,25.93041,26.22585,26.21738,26.234,26.2328,26.23249,26.2339,26.00256,26.19247,26.19321,26.23725,26.23464,26.235,26.11599,26.23265,26.19215,26.19098,26.23153,26.03139,26.2332,26.23075,26.2326,26.22527,26.2298,26.2397,26.26223,26.21867,26.223,26.223,26.28781,26.17189,26.21502,26.22847,26.23515,26.21667,26.26222,26.22961,26.22052,26.23207,26.23212,26.23715,26.21883,26.24597,26.26439,26.20597,26.214,26.2371,26.21326,26.23217,26.21578,26.20217,26.18933,26.23259,26.00249,26.22006,26.22014,26.22191,26.21667,26.22799,26.2139,26.20545,26.23545,26.0533,26.2183,26.21725,26.21991,26.23684,26.21559,26.21353,26.05346,26.23514,26.24009,26.21667,26.23101,26.2656,26.21327,26.22865,26.22405,26.24025,26.21696,26.11491,26.28657,26.21628,26.23719,26.053,26.2333,26.23239,26.23161,26.21452,26.24198,26.2162,26.21726,26.22054,26.2425,26.23207,26.2183,26.23395,26.23233,26.00244,26.20864,26.23279,26.21185,26.22339,26.22865,26.22089,26.21129,26.2198,26.23,26.21988,26.24732,26.29001,26.11512,26.21538,26.20975,26.20975,26.24546,26.21312,26.0668,26.0668,26.0668,26.2696,25.6575,26.2281,26.2308,26.2351,26.23247,26.29254,26.23973,25.91571,25.69317,26.10851,26.08694,26.04917,26.10667,25.65361,25.66278,26.231,26.14972,26.19528,26.19667,25.67541,25.6425,26.15667,26.23028,26.05,26.00861,26.2779,26.16028,26.14944,26.10944,26.23333,26.08556,26.28472,25.75083,25.75194,25.93528,26.41667,26.27083,26.23556,25.78861,25.77528,25.86889,25.98639,26.18212,25.66667,26.27139,25.80773,25.89888,26.05833,26.26056,26.29194,26.19028,25.88333,26.29092,26.21472,26.19417,25.96167,26.16472,26.00917,25.85083,25.88278,26.18333,25.91417,26.04,25.65508,26.11667,26.03889,25.93333,26.1825,25.93639,25.56176,26.28278,25.8,26.27611,25.624,26.20806,26.23333,25.80223,25.99028,25.79778,26.21738,26.05167,26.23333,25.78401,26.19944,25.98111,25.73917,25.69949,26.08806,26.0,26.03333,26.14861,25.74,26.03333,26.22694,26.235,26.07083,26.01861,26.17584,26.24417,25.91,25.64462,26.2922,26.15,26.05,26.13333,26.05],\"lon\":[50.51667,50.48333,50.55,50.55,50.61667,50.58333,50.58333,50.58333,50.56667,50.46667,50.64444,50.64361,50.59194,50.52806,50.5,50.57417,50.53333,50.66861,50.59278,50.71667,50.57528,50.46667,50.43583,50.77722,50.56667,50.56667,50.48333,50.55,50.65,50.61361,50.58861,50.45,50.58333,50.46667,50.57056,50.61667,50.53333,50.61278,50.65222,50.63889,50.60689,50.55,50.53333,50.76333,50.62479,50.445,50.56667,50.55111,50.49186,50.51806,50.6275,50.49389,50.57083,50.40889,50.51111,50.6,50.46667,50.51667,50.57167,50.43333,50.51417,50.55,50.5,50.56667,50.55639,50.58333,50.57389,50.58333,50.62972,50.95444,50.56667,50.635,50.43722,50.46,50.58333,50.42444,50.43806,50.58333,50.46667,50.56139,50.74944,50.56778,50.5875,50.58333,50.56667,50.60667,50.55,50.50722,50.55,50.53333,50.61833,50.58583,50.35,50.89868,50.565,50.58333,50.55,50.6,50.5025,50.53333,50.5725,50.51667,50.5025,50.58333,50.49944,50.55,50.55,50.56472,50.50444,50.71032,50.61111,50.52611,50.58333,50.65583,50.59194,50.54944,50.54611,50.62556,50.62056,50.50139,50.48194,50.58194,50.55083,50.635,50.52472,50.53861,50.48972,50.63333,50.51667,50.65028,50.5,50.54389,50.61833,50.4875,50.55,50.62611,50.54778,50.5,50.56667,50.48194,50.50944,50.52944,50.58333,50.6,50.57528,50.54778,50.56028,50.5,50.61667,50.49472,50.55,50.5275,50.55,50.51667,50.5,50.50694,50.63333,50.63861,50.63528,50.63333,50.61917,50.62139,50.48111,50.50389,50.4975,50.52,50.57722,50.56194,50.48083,50.45972,50.56417,50.64694,50.48639,50.53333,50.55056,50.55,50.52722,50.61639,50.50694,50.5,50.55583,50.57361,50.55111,50.52028,50.63222,50.5975,50.475,50.46278,50.58361,50.61056,50.51917,50.55889,50.53722,50.52306,50.61194,50.47333,50.58565,50.51944,50.48667,50.58889,50.60861,50.60472,50.61167,50.55333,50.44917,50.46778,50.54972,50.51639,50.55,50.45944,50.51389,50.65417,50.602,50.60778,50.45,50.53722,50.52791,50.61028,50.54056,50.61499,50.47056,50.62361,50.50694,50.54417,50.53056,50.53583,50.555,50.53056,50.53685,50.60111,50.51594,50.50199,50.58458,50.5917,50.57995,50.55,50.64194,50.6,50.61667,50.62694,50.51667,50.61361,50.55,50.48333,50.61667,50.48333,50.63361,50.58333,50.48333,50.58333,50.58333,50.45944,50.48333,50.48167,50.51333,50.52448,50.55366,50.5778,50.6247,50.59,50.5666,50.5114,50.5666,50.5666,50.5666,50.5666,50.5114,50.5114,50.5666,50.5666,50.52,50.62567,50.51056,50.6097,50.57352,50.6107,50.60751,50.59712,50.59656,50.60682,50.60846,50.59174,50.60144,50.5969,50.61045,50.55216,50.59049,50.5712,50.53445,50.60206,50.53826,50.60059,50.59879,50.67099,50.58287,50.60488,50.5577,50.537,50.591,50.583,50.583,50.61102,50.604,50.53444,50.5693,50.61355,50.57781,50.58794,50.57051,50.61027,50.48498,50.56591,50.5666,50.55235,50.60955,50.541,50.5431,50.53468,50.5964,50.5916,50.63777,50.58344,50.60363,50.576,50.5955,50.55208,50.5752,50.51666,50.53355,50.53342,50.53743,50.59847,50.5969,50.49316,50.57419,50.53469,50.53996,50.56551,50.51444,50.578,50.57024,50.57778,50.59777,50.5699,50.5847,50.62051,50.60311,50.54425,50.54425,50.6725,50.55085,50.53346,50.54625,50.53601,50.58333,50.62049,50.59668,50.59865,50.59728,50.59723,50.53039,50.60314,50.60178,50.62571,50.60577,50.609,50.53032,50.60696,50.541,50.60364,50.60944,50.53711,50.55232,50.50621,50.60122,50.6047,50.60327,50.58333,50.59753,50.60528,50.60008,50.5969,50.48455,50.6041,50.60485,50.60379,50.59655,50.58068,50.62044,50.48498,50.53598,50.59049,50.58333,50.59789,50.5994,50.60512,50.54621,50.54647,50.53623,50.61041,50.63576,50.67181,50.60943,50.53035,50.485,50.53454,50.59656,50.59553,50.6043,50.59247,50.595,50.60487,50.60619,50.59162,50.59724,50.6041,50.57597,50.57242,50.51761,50.5957,50.59691,50.58962,50.54451,50.54621,50.60392,50.60681,50.60615,50.546,50.60466,50.5809,50.66029,50.6345,50.58333,50.60285,50.60285,50.53741,50.60889,50.5114,50.5114,50.5114,50.6269,50.7569,50.5884,50.5711,50.574,50.55203,50.66394,50.58346,50.58955,50.76537,50.57752,50.61972,50.48278,50.44528,50.815,50.77444,50.65177,50.4,50.59306,50.56167,50.81188,50.79972,50.62139,50.46444,50.63222,50.55944,50.59584,50.59028,50.48389,50.62944,50.58333,50.51722,50.63472,50.78167,50.76611,50.61306,50.51667,50.65528,50.51861,50.60306,50.59833,50.60556,50.45778,50.58562,50.78333,50.63028,50.68225,50.51626,50.54833,50.51639,50.6225,50.58472,50.6,50.66471,50.61222,50.40167,50.45667,50.44722,50.56333,50.60778,50.64472,50.6,50.55278,50.63139,50.75485,50.63333,50.545,50.46667,50.66361,50.60278,50.79154,50.61417,50.76667,50.60972,50.78249,50.44667,50.6,50.56509,50.55083,50.56667,50.67019,50.55111,50.43333,50.70843,50.43611,50.53083,50.55806,50.79979,50.58889,50.55,50.53333,50.60944,50.82333,50.71667,50.46111,50.66806,50.62333,50.47222,50.31579,50.60194,50.69806,50.76765,50.6662,50.58333,50.53333,50.5,50.5],\"text\":[\"Al Mintaqah al Wusta historical first-order administrative division\",\"Al Mintaqah al Gharbiyah historical first-order administrative division\",\"Kingdom of Bahrain independent political entity\",\"Ar Rifa' wa al Mintaqah al Janubiyah historical first-order administrative division\",\"Muharraq Governorate first-order administrative division\",\"Al Manamah historical first-order administrative division\",\"Capital Governorate first-order administrative division\",\"Southern Governorate first-order administrative division\",\"Central Governorate historical first-order administrative division\",\"Northern Governorate first-order administrative division\",\"Dawhat Salwa bay\",\"Dawhat az Zimmah bay\",\"`Ayn Yusuf well\",\"West Spit section of reef\",\"`Ayn Umm Majra spring(s)\",\"`Ayn Umm Jidr well\",\"Bi'r Umm Ghuwayfah well\",\"Kawkab Umm as Sawali spring(s)\",\"`Ayn Umm ash Sha`um spring(s)\",\"Thalb reef(s)\",\"`Ayn as Summan well\",\"`Ayn as Sujur well\",\"Jazirat Suhaylah reef(s)\",\"Hayr Shutaya shoal(s)\",\"`Ayn ash Shul well\",\"Ra's ash Shab section of reef\",\"`Ayn as Sayyid well\",\"`Ayn Sayyid well\",\"Kawkab Samahij spring(s)\",\"Dawhat Salwa bay\",\"Kawkab Salih spring(s)\",\"Ra's as Sala section of reef\",\"`Ayn as Safahiyah well\",\"Bandar Sadad anchorage\",\"Fasht Rustan reef(s)\",\"Kawkab Rayya spring(s)\",\"Ra's al `Ayn reef(s)\",\"`Ayn ar Raha spring(s)\",\"Qassar al Qulay`ah reef(s)\",\"Khawr al Qulay`ah inlet\",\"Dawhat al Qudaybiyah bay\",\"`Ayn Qassari spring(s)\",\"Outer Anchorage anchorage\",\"Bandar Nakhlah anchorage\",\"Dawhat al Muharraq bay\",\"Marwadi reef(s)\",\"Khawr Maqta` Tubli inlet\",\"Dawhat al Manamah bay\",\"Mamlahat al Mamtalah sabkha(s)\",\"Dawhat al Mamtalah inlet\",\"`Ayn al Mahazzah well\",\"`Ayn Khuways spring(s)\",\"Ra's Khusayfah section of reef\",\"Khawr Fasht reef(s)\",\"`Ayn al Khadra' spring(s)\",\"Kawkab Kassar spring(s)\",\"Bandar Karzakkan anchorage\",\"`Ayn Karranah well\",\"Khawr al Kab inlet\",\"Bandar al Jasrah anchorage\",\"Fasht al Jarim reef(s)\",\"`Ayn Jamalah well\",\"Jadam section of reef\",\"Inner Anchorage anchorage\",\"`Ayn al Hunayni well\",\"`Ayn Hartah spring(s)\",\"`Ayn al Hakim well\",\"Fasht al Hadbah section of reef\",\"Dawhat al Farisiyah bay\",\"Fasht ad Dibal reef(s)\",\"Ra's Dawarin section of reef\",\"Bandar ad Dar anchorage\",\"Dawhat al Budayyi` bay\",\"Fasht Bartufi reef(s)\",\"Gulf of Bahrain gulf\",\"Khawr al Bab marine channel\",\"As Suhaylah reef(s)\",\"As Sayah spring(s)\",\"Ash Shuraybah spring(s)\",\"Ash Shabak sabkha(s)\",\"Al Maqta` anchorage\",\"Mina' al Manamah harbor(s)\",\"Al Hafirah well\",\"Al Ghaynah sabkha(s)\",\"Al Buhayr sabkha(s)\",\"Kawkab al `Akr spring(s)\",\"`Ayn `Adhari spring(s)\",\"Hayr al `Adalah shoal(s)\",\"`Ayn Abu Zaydan spring(s)\",\"Abu Saydan well\",\"Abu Mahir spring(s)\",\"`Ayn `Abd Allah well\",\"Hayr ar Ruq`ah shoal(s)\",\"Qit`at Jaradah reef(s)\",\"Umm Jidr as Summan area\",\"Umm `Abd Allah locality\",\"Suq al Khamis locality\",\"Mina' Salman port\",\"Sakhara locality\",\"Radm al Qawari locality\",\"Mina' al Manamah port\",\"Jubaylat locality\",\"Hawrat `Inqa area\",\"Barburah locality\",\"Al Markh area\",\"Al Bajawiyah locality\",\"Al Bahrayn oilfield\",\"Abu al `Awsaj area\",\"Al `Arin wildlife reserve\",\"Khalifa Bin Salman Port port\",\"Wadiyan populated place\",\"Umm Jidr populated place\",\"Umm ash Sha`um section of populated place\",\"Umm ash Shajar populated place\",\"Umm al Hassam section of populated place\",\"Tubli populated place\",\"Tashshan section of populated place\",\"Sufalah populated place\",\"Sitrah populated place\",\"Shahrakkan populated place\",\"Sar populated place\",\"Sanad populated place\",\"Sanabis section of populated place\",\"Samahij populated place\",\"Salmabad populated place\",\"Safirah populated place\",\"Sadad populated place\",\"Rayya populated place\",\"Qubayt populated place\",\"Qalali populated place\",\"Nur Juruft populated place\",\"Marwazan section of populated place\",\"Marquban populated place\",\"Maqaba populated place\",\"Mani populated place\",\"Mahazzah populated place\",\"Madinat `Isa populated place\",\"Khuways populated place\",\"Kawrah populated place\",\"Karzakkan populated place\",\"Karranah populated place\",\"Karbabad populated place\",\"Kaflan populated place\",\"Jusayrah populated place\",\"Jurdab populated place\",\"Jidd Hafs populated place\",\"Jidd `Ali populated place\",\"Jidd al Hajj populated place\",\"Jaww populated place\",\"Jannusan populated place\",\"Jamalah populated place\",\"Jabalat Habashi populated place\",\"Hillat as Suq populated place\",\"Hillat `Abd as Salih populated place\",\"Harbadiyah populated place\",\"Madinat Hamad populated place\",\"Halat Umm al Bayd populated place\",\"Halat as Sultah populated place\",\"Halat an Na`im populated place\",\"Halat al Khulayfat populated place\",\"Halat Abu Mahir section of populated place\",\"Halah populated place\",\"Dumistan populated place\",\"Dar Kulayb populated place\",\"Buri populated place\",\"Bu Quwah populated place\",\"Bu `Ashirah section of populated place\",\"Bilad al Qadim section of populated place\",\"Barbar populated place\",\"Bani Jamrah populated place\",\"Az Zinj section of populated place\",\"Az Zimmah populated place\",\"Az Zallaq populated place\",\"`Ayn ad Dar populated place\",\"Oil City populated place\",\"As Salihiyah section of populated place\",\"As Sakhir populated place\",\"`Askar populated place\",\"Ash Shakhurah populated place\",\"Ar Ruq`ah populated place\",\"Ar Rumaythah populated place\",\"Ar Rifa` ash Sharqi section of populated place\",\"Ar Rifa` ash Shamali section of populated place\",\"Ar Rifa` al Gharbi populated place\",\"`Arad populated place\",\"An Nuwaydirat populated place\",\"Al Wasmiyah populated place\",\"Al Qurayyah populated place\",\"Al Qaryah populated place\",\"Al Qaryah populated place\",\"Al Qadam populated place\",\"Al Muwaylighah populated place\",\"Al Musalla section of populated place\",\"Al Muqsha` populated place\",\"Al Muharraq populated place\",\"Al Markh populated place\",\"Manama capital of a political entity\",\"Al Mamtalah populated place\",\"Al Malikiyah populated place\",\"Al Mahuz section of populated place\",\"Al Ma`amir populated place\",\"Al Kharijiyah populated place\",\"Al Jufayr section of populated place\",\"Al Jubaylat populated place\",\"Al Jasrah populated place\",\"Al Janabiyah populated place\",\"Jabalat al Burhamah section of populated place\",\"`Ali populated place\",\"Al Hujayr populated place\",\"Al Hamalah populated place\",\"Al Hajar populated place\",\"Al Hadd populated place\",\"Ghuraifa section of populated place\",\"Al Busaytin populated place\",\"Al Budayyi` populated place\",\"Al Bid`ah section of populated place\",\"Al `Amar populated place\",\"Al `Akr populated place\",\"Al `Adliyah section of populated place\",\"Ad Dur populated place\",\"Ad Diraz populated place\",\"Ad Dayr populated place\",\"Abu Saybi` populated place\",\"Abu Baham populated place\",\"As Sahlah al Fawqiyah section of populated place\",\"As Sahlat al Hadriyah section of populated place\",\"Ar Rifa' populated place\",\"Al Qal`ah populated place\",\"Seef populated place\",\"Al Juffair section of populated place\",\"A'ali section of populated place\",\"Abu Saiba section of populated place\",\"Adliya section of populated place\",\"Beit Al Quran historical populated place\",\"Artist Nasser AlYousif House road\",\"Suwayfirah racetrack\",\"Sitrah oil pipeline terminal\",\"Qal`at Shaykh Khalid fort\",\"Salbah ruin(s)\",\"Qal`at `Arad fort\",\"Qal`at al `Ajaj ruin(s)\",\"Qal`at Abu Mahir fort\",\"Jabal Camp oil camp\",\"Hamalah Camp military installation\",\"Halah landing\",\"Qal`at al Buqayshi historical site\",\"Bahrain International Airport airport\",\"Ar Rifa` al Gharbi Camp oil camp\",\"An Nasiriyah building(s)\",\"Al Qal`ah fort\",\"Al Makhruq ruin(s)\",\"Al Jaza'ir ruin(s)\",\"Al `Aqariyah landing\",\"Al `Ada'im ruin(s)\",\"Jami`at al Khalij al `Arabi school\",\"Sakhir Airbase airfield\",\"Ramada Manama City Centre Bahrain hotel\",\"Mercure Grand Hotel Seef 4 hotel\",\"Moevenpick Hotel Bahrain hotel\",\"Novotel Al Dana Resort Bahrain hotel\",\"SHERATON BAHRAIN HTL AND TOWER hotel\",\"ELITE GRANDE HOTEL hotel\",\"BANYAN TREE DESERT SPA RESORT hotel\",\"METROPOLITAN HOTEL hotel\",\"GRAND HOTEL BAHRAIN hotel\",\"WINDSOR TOWER HOTEL hotel\",\"ELITE ROYALE   LUXURY APARTMENT hotel\",\"ELITE FOUR   LUXURY APARTMENTS hotel\",\"BEST WESTERN JUFFAIR HOTEL hotel\",\"RITZ-CARLTON BAHRAIN HOTEL-SPA hotel\",\"Qal'at al-Bahrain fort\",\"Habayan Mediumwave Transmitter tower\",\"Bahrain International Circuit racetrack\",\"Somerset Al Fateh Bahrain hotel\",\"Regency Intercontinental hotel\",\"Ramee California hotel\",\"Ramee Palace hotel\",\"Ramee Suite 3 hotel\",\"Ramee Baisan Int'l hotel\",\"Ramee Suite 4 hotel\",\"Ramee Suite 2 hotel\",\"The Diplomat Radisson Blu hotel\",\"Pars International hotel\",\"Monroe Hotel hotel\",\"K Hotel hotel\",\"Westin Bahrain City Center hotel\",\"Crowne Plaza hotel\",\"Gulf Gate hotel\",\"Fraser Suites hotel\",\"Elite Resort & Spa hotel\",\"Elite Seef Residence hotel\",\"Elite Five hotel\",\"The Juffair Grand Hotel hotel\",\"The Dragon & Sealoft Resort hotel\",\"Concord International hotel\",\"Al Safir Tower hotel\",\"Le Meridien Bahrain City Cente hotel\",\"Swiss-Belhotel Seef Bahrain hotel\",\"The Domain Bahrain hotel\",\"Best Western Plus The Olive hotel\",\"Ramee Grand Hotel & Spa hotel\",\"Elite Crystal Hotel hotel\",\"Al Manzil Suites Hotel hotel\",\"Fraser Suites Seef Bahrain Hotel hotel\",\"Delmon International hotel\",\"Concord International Hotel hotel\",\"Oriental Palace Hotel hotel\",\"Atlas Hotel Bahrain hotel\",\"Pars International Hotel hotel\",\"The K Hotel hotel\",\"Sofitel Bahrain Zallaq Thalassa Sea & Spa Hotel hotel\",\"Ramee Baisan Hotel hotel\",\"Ramee Suites 3 hotel\",\"Kempinski Grand & Ixir Bahrain City Centre hotel\",\"Ramee International hotel\",\"Elite Two hotel\",\"Elite Suites hotel\",\"Gulf Gate Hotel Bahrain hotel\",\"Landmark hotel\",\"Sea Shell hotel\",\"Gulf Hotel hotel\",\"Bahrian Plaza hotel\",\"Ramee Suite 1 hotel\",\"Mashtan hotel\",\"Best Western The Juffair Grand Hotel hotel\",\"Kempinski Grand & Ixir Hotel Bahrain City Centre hotel\",\"Gulf Pearl (Al Manama) hotel\",\"Al Areen hotel\",\"Elite Pavilion hotel\",\"Elite Three hotel\",\"L'hotel hotel\",\"Ramee Suites 3 Apartment hotel\",\"Best Western Baisan Tower hotel\",\"Crowne Plaza Bahrain hotel\",\"Al Jazira hotel\",\"Elite One hotel\",\"Awal hotel\",\"Ewa hotel\",\"Al Safir Hotel & Tower hotel\",\"Oriental Palace (Al Manama) hotel\",\"Atlas (Al Manama) hotel\",\"V Tower Residence hotel\",\"Mirador hotel\",\"Tylos hotel\",\"Golden Tulip Bahrein hotel\",\"Phoenicia hotel\",\"Al Safir Residence hotel\",\"Elite Seef Residence & Hotel hotel\",\"Elite Grande hotel\",\"Sealoft Boutique Chalets hotel\",\"Al Bander Hotel hotel\",\"Best Western Elite Hotel hotel\",\"Elite Suite - Sanabis hotel\",\"Ramee Grand Hotel &Amp Spa hotel\",\"Phonecia Hotel hotel\",\"Phoenicia Tower hotel\",\"Monroe Hotel Bharian hotel\",\"Marriott Executive Apartments Manama hotel\",\"Holiday Villa Bahrain hotel\",\"Holiday Inn Express hotel\",\"Hani Royal hotel\",\"Grand Safir Hotel hotel\",\"Elite Resort And Spa hotel\",\"Movenpick Hotel Bahrain hotel\",\"Ramee Palace Hotel All Suites Hotel hotel\",\"Ramee Suites 2 hotel\",\"Hani Suites And Spa hotel\",\"Ramee Suites 4 hotel\",\"Mercure Grand Hotel Seef All Suites hotel\",\"Al Manzil Suites Juffair hotel\",\"Elite V hotel\",\"Golden Tulip Bahrain hotel\",\"Westin And Le Meridien Bahrain City Centre Ex Kempinski Grand And Ixir Hotel Bahrain hotel\",\"Al Areen Palace And Spa hotel\",\"Elite Royal Hotel hotel\",\"Hotel Diva hotel\",\"Serene Landmark Hotel Apartment Juffair Bahrain hotel\",\"Seashell Hotel Bahrain hotel\",\"Rameee Suite 3 hotel\",\"Al Khobar Plaza hotel\",\"Residence Inn By Marriott hotel\",\"Days Hotel Manama hotel\",\"Sofitel Bahrain Zallaq Thalass hotel\",\"Elite Pavillion hotel\",\"Al Safir Htl & Tower hotel\",\"Bw Plus The Olive hotel\",\"Royal Phoenicia hotel\",\"Al Manzil Suites 2 Adliya hotel\",\"Al Jaberiya Suites 1 hotel\",\"Sofitel Bahrain Zallaq Thalassa Sea And Spa hotel\",\"Ramee Grand Htl & Spa hotel\",\"The Domain Hotel And Spa hotel\",\"Best Western Olaya Suites Hotel hotel\",\"Hotel Florida hotel\",\"Majestic Arjaan By Rotana hotel\",\"Al Murooj Hotel hotel\",\"Tulip Inn hotel\",\"Al Raya Suites hotel\",\"Elite Tower hotel\",\"Frsan Plaza hotel\",\"Al Bander Hotel & Resort hotel\",\"The Dragon Beach Hotel & Resort hotel\",\"Panorama Hotel Bahrain hotel\",\"Hani Suites Spa Manama hotel\",\"Sofitel Bahrain Zallaq Thalassa Sea & Spa 28Km From Manama hotel\",\"Fraser Suite hotel\",\"Ramee Baisan International hotel\",\"Elite One Luxury Apartments hotel\",\"Elite 5 hotel\",\"Diplomat Radisson Blue Hotel Residence & Spa hotel\",\"The Gulf Hotel Bahrain hotel\",\"Al Safir Hotel And Tower hotel\",\"Marriott Exec Ap Manama hotel\",\"The Diplomat Radisson Blu Hotel Residence & Spa hotel\",\"Y Inn Express Bahrain hotel\",\"Te Pavillion hotel\",\"Awal Hotel hotel\",\"City Center Hotel hotel\",\"Al Areen Palace & Spa hotel\",\"The Palace Boutique hotel\",\"Florida Apartment hotel\",\"Hani Royal Hotel hotel\",\"Serene Landmark Residence (Seef-Bahrain) hotel\",\"Gulf Court hotel\",\"Serene Landmark Tower - Al Fateh (Juffair) hotel\",\"One Juffair Luxury Serviced Apartments hotel\",\"Sea Diamond Plaza hotel\",\"Tulip Inn Bahrain Suites And Residence hotel\",\"Residence Inn Manama Juffair hotel\",\"Four Seasons Hotel Bahrain Bay hotel\",\"Art Rotana hotel\",\"Al Bander Htl and Resort hotel\",\"Sofitel Bahrain Zallaq Thalassa Sea and Spa Hotel hotel\",\"Ramee Suites 1 hotel\",\"Ramee Suite 2 Furnished Apartment hotel\",\"The Ritz Carlton Bah hotel\",\"Ramee Suite 1 Aparment hotel\",\"Elite Two Luxury Apartments hotel\",\"Elite Pavilion Luxury Apartments hotel\",\"Elite Five Luxury Apartments hotel\",\"Bahrain International Hotel hotel\",\"Hawar Island Resort hotel\",\"Al Commodore hotel\",\"Adhari hotel\",\"Regency Inter Continental hotel\",\"The Westin Bahrain City Centre hotel\",\"Ramada Hotel & Suites Amwaj Island hotel\",\"Sheraton Bahrain Hotel hotel\",\"ISA Air Base airbase\",\"Hawar Island Highway Strip airfield\",\"Ar Rifa Al Gharbi Heliport heliport\",\"Ra's Zuwayyid point\",\"Ra's az Zallaq point\",\"Jazirat Ya`suf island\",\"Juzur al Wukur islands\",\"Umm Kharurah island\",\"Jazirat Umm ash Shajar section of island\",\"Umm an Na`san island\",\"Ra's Umm al Hassam point\",\"Ra's Tubli point\",\"Suwad ash Shamaliyah island\",\"Suwad al Janubiyah island\",\"Sitrah island\",\"Ra's ash Shuraybah point\",\"Jazirat ash Shaykh island\",\"Al Qarah ash Shamaliyah hill\",\"Jazirat as Sayah section of island\",\"Ra's Sanad point\",\"Dil` Salman Bin Du`ayj escarpment\",\"Ra's Salbah point\",\"Ra's ar Rumman point\",\"Dil` ar Rifa` cliff(s)\",\"Ra's Rayya point\",\"Rabad ash Sharqiyah island\",\"Rabad al Gharbiyah island\",\"Ra's al Qurayn point\",\"Qulay`ah Rock rock\",\"Ra's Qalali point\",\"Ra's al Qal`ah point\",\"Qassar Nun island\",\"Halat Nun island\",\"Ra's an Niqah spit\",\"Ra's Nawmah point\",\"Jazirat an Nabi Salih island\",\"Muhazwarah Island island\",\"Jazirat al Muharraq island\",\"Jazirat Mashtan island\",\"Ra's al Mamtalah cape\",\"Jabal Lughaybirat hill\",\"Liya rock\",\"Qassar Khusayfah island\",\"Juzayyirah island\",\"Ra's al Jusayrah point\",\"Qassar Jurdi island\",\"Ra's al Jufayr point\",\"Jiddah island\",\"Ra's al Jaza'ir point\",\"Ra's al Jasrah point\",\"Al Qarah al Janubiyah hill\",\"Hadd al Jamal point\",\"Jabbari rock\",\"Qassar `Isa Bin Sayf al Binali island\",\"Qarn Ibrahim hill\",\"Ra's Hayyan cape\",\"Jazirat Hawar island\",\"Ra's Halat Umm al Bayd point\",\"Jabal ad Dukhan mountain\",\"Ra's Dubas point\",\"Qassar Diwan rock\",\"Qurayn adh Dhirban hill\",\"Hadd ad Dib spit\",\"Ra's ad Dayr point\",\"Fasht Bu Thawr island\",\"Ra's al Busaytin point\",\"Juzur Bu Sadad island\",\"Ra's al Budayyi` point\",\"Ra's Bin Anas point\",\"Ra's al Barr point\",\"Bahrain Islands islands\",\"Hadd al Bahrayn spit\",\"Jazirat al `Azl section of island\",\"Ar Rumanum hill\",\"An Nu`ayjat rocks\",\"Al Mu`tarid island\",\"Al Muhammadiyah island\",\"Al Jil`ah hill\",\"Al Hul spit\",\"Al Hayiya Island island\",\"Jabal al Hasi hill\",\"Bahrain Island island\",\"Al Awbayidh hill\",\"Ra's al `Akr point\",\"Jazirat `Ajirah island\",\"Fasht Adham island\",\"Ra's Abu Subh point\",\"Qassar Abu Shahin section of island\",\"Ra's Abu Jarjur point\",\"Ra's Abu al Mawj point\",\"Al Baynah as Saghirah island\",\"Zalaqat as Sufun point\",\"Thalib rock\",\"Hawar Islands islands\",\"Amwaj Islands island\",null,null,\"Nakhl Lawzi palm grove\",\"Nakhl Budayyi`at Ghazal cultivated area\"],\"type\":\"scattermapbox\"},{\"lat\":[25.9916,26.0686,26.0753,26.0828,26.098,26.1153,26.1156,26.1264,26.1333,26.1347,26.1431,26.1433,26.1503,26.1514,26.1547,26.1587,26.1592,26.1619,26.1636,26.169,26.1789,26.183,26.1831,26.1869,26.1942,26.2019,26.2026,26.2039,26.2047,26.206,26.2097,26.2103,26.2108,26.2114,26.2117,26.2122,26.2127,26.2147,26.2156,26.2156,26.2167,26.2175,26.2181,26.2191,26.2197,26.2226,26.2272,26.2279,26.2287,26.2292,26.2294,26.2303,26.2305,26.2308,26.2333,26.2383,26.2572,26.28,26.2842],\"lon\":[50.6165,50.5039,50.5014,50.4897,50.4866,50.5069,50.4819,50.4811,50.6086,50.5975,50.6103,50.4594,50.5819,50.4975,50.6206,50.6262,50.6111,50.5164,50.6047,50.626,50.5627,50.585,50.5247,50.5494,50.4819,50.5368,50.5304,50.5345,50.52,50.6032,50.4597,50.4733,50.4875,50.5461,50.5619,50.5372,50.6042,50.5069,50.4524,50.5192,50.5333,50.5069,50.4706,50.5366,50.5231,50.6573,50.5508,50.5857,50.5669,50.5094,50.4806,50.5294,50.4947,50.5711,50.5833,50.5386,50.6119,50.635,50.6236],\"marker\":{\"color\":\"cyan\",\"size\":[3.4,2.4,3.4,0.6,2.2,0.6,7.8,6.4,12.8,11.2,6.6,5.2,1.0,3.8,9.4,0.4,1.2,8.0,0.4,0.2,0.4,0.8,2.6,2.4,4.0,4.2,4.4,0.6,6.4,1.2,6.2,3.4,2.0,0.6,8.4,8.6,0.8,21.4,0.8,2.2,5.6,31.2,10.8,6.4,6.0,0.4,18.8,14.6,0.6,9.4,4.4,9.4,0.2,0.2,0.6,0.2,0.4,8.4,5.6]},\"type\":\"scattermapbox\"}],                        {\"template\":{\"data\":{\"bar\":[{\"error_x\":{\"color\":\"#2a3f5f\"},\"error_y\":{\"color\":\"#2a3f5f\"},\"marker\":{\"line\":{\"color\":\"#E5ECF6\",\"width\":0.5},\"pattern\":{\"fillmode\":\"overlay\",\"size\":10,\"solidity\":0.2}},\"type\":\"bar\"}],\"barpolar\":[{\"marker\":{\"line\":{\"color\":\"#E5ECF6\",\"width\":0.5},\"pattern\":{\"fillmode\":\"overlay\",\"size\":10,\"solidity\":0.2}},\"type\":\"barpolar\"}],\"carpet\":[{\"aaxis\":{\"endlinecolor\":\"#2a3f5f\",\"gridcolor\":\"white\",\"linecolor\":\"white\",\"minorgridcolor\":\"white\",\"startlinecolor\":\"#2a3f5f\"},\"baxis\":{\"endlinecolor\":\"#2a3f5f\",\"gridcolor\":\"white\",\"linecolor\":\"white\",\"minorgridcolor\":\"white\",\"startlinecolor\":\"#2a3f5f\"},\"type\":\"carpet\"}],\"choropleth\":[{\"colorbar\":{\"outlinewidth\":0,\"ticks\":\"\"},\"type\":\"choropleth\"}],\"contour\":[{\"colorbar\":{\"outlinewidth\":0,\"ticks\":\"\"},\"colorscale\":[[0.0,\"#0d0887\"],[0.1111111111111111,\"#46039f\"],[0.2222222222222222,\"#7201a8\"],[0.3333333333333333,\"#9c179e\"],[0.4444444444444444,\"#bd3786\"],[0.5555555555555556,\"#d8576b\"],[0.6666666666666666,\"#ed7953\"],[0.7777777777777778,\"#fb9f3a\"],[0.8888888888888888,\"#fdca26\"],[1.0,\"#f0f921\"]],\"type\":\"contour\"}],\"contourcarpet\":[{\"colorbar\":{\"outlinewidth\":0,\"ticks\":\"\"},\"type\":\"contourcarpet\"}],\"heatmap\":[{\"colorbar\":{\"outlinewidth\":0,\"ticks\":\"\"},\"colorscale\":[[0.0,\"#0d0887\"],[0.1111111111111111,\"#46039f\"],[0.2222222222222222,\"#7201a8\"],[0.3333333333333333,\"#9c179e\"],[0.4444444444444444,\"#bd3786\"],[0.5555555555555556,\"#d8576b\"],[0.6666666666666666,\"#ed7953\"],[0.7777777777777778,\"#fb9f3a\"],[0.8888888888888888,\"#fdca26\"],[1.0,\"#f0f921\"]],\"type\":\"heatmap\"}],\"heatmapgl\":[{\"colorbar\":{\"outlinewidth\":0,\"ticks\":\"\"},\"colorscale\":[[0.0,\"#0d0887\"],[0.1111111111111111,\"#46039f\"],[0.2222222222222222,\"#7201a8\"],[0.3333333333333333,\"#9c179e\"],[0.4444444444444444,\"#bd3786\"],[0.5555555555555556,\"#d8576b\"],[0.6666666666666666,\"#ed7953\"],[0.7777777777777778,\"#fb9f3a\"],[0.8888888888888888,\"#fdca26\"],[1.0,\"#f0f921\"]],\"type\":\"heatmapgl\"}],\"histogram\":[{\"marker\":{\"pattern\":{\"fillmode\":\"overlay\",\"size\":10,\"solidity\":0.2}},\"type\":\"histogram\"}],\"histogram2d\":[{\"colorbar\":{\"outlinewidth\":0,\"ticks\":\"\"},\"colorscale\":[[0.0,\"#0d0887\"],[0.1111111111111111,\"#46039f\"],[0.2222222222222222,\"#7201a8\"],[0.3333333333333333,\"#9c179e\"],[0.4444444444444444,\"#bd3786\"],[0.5555555555555556,\"#d8576b\"],[0.6666666666666666,\"#ed7953\"],[0.7777777777777778,\"#fb9f3a\"],[0.8888888888888888,\"#fdca26\"],[1.0,\"#f0f921\"]],\"type\":\"histogram2d\"}],\"histogram2dcontour\":[{\"colorbar\":{\"outlinewidth\":0,\"ticks\":\"\"},\"colorscale\":[[0.0,\"#0d0887\"],[0.1111111111111111,\"#46039f\"],[0.2222222222222222,\"#7201a8\"],[0.3333333333333333,\"#9c179e\"],[0.4444444444444444,\"#bd3786\"],[0.5555555555555556,\"#d8576b\"],[0.6666666666666666,\"#ed7953\"],[0.7777777777777778,\"#fb9f3a\"],[0.8888888888888888,\"#fdca26\"],[1.0,\"#f0f921\"]],\"type\":\"histogram2dcontour\"}],\"mesh3d\":[{\"colorbar\":{\"outlinewidth\":0,\"ticks\":\"\"},\"type\":\"mesh3d\"}],\"parcoords\":[{\"line\":{\"colorbar\":{\"outlinewidth\":0,\"ticks\":\"\"}},\"type\":\"parcoords\"}],\"pie\":[{\"automargin\":true,\"type\":\"pie\"}],\"scatter\":[{\"marker\":{\"colorbar\":{\"outlinewidth\":0,\"ticks\":\"\"}},\"type\":\"scatter\"}],\"scatter3d\":[{\"line\":{\"colorbar\":{\"outlinewidth\":0,\"ticks\":\"\"}},\"marker\":{\"colorbar\":{\"outlinewidth\":0,\"ticks\":\"\"}},\"type\":\"scatter3d\"}],\"scattercarpet\":[{\"marker\":{\"colorbar\":{\"outlinewidth\":0,\"ticks\":\"\"}},\"type\":\"scattercarpet\"}],\"scattergeo\":[{\"marker\":{\"colorbar\":{\"outlinewidth\":0,\"ticks\":\"\"}},\"type\":\"scattergeo\"}],\"scattergl\":[{\"marker\":{\"colorbar\":{\"outlinewidth\":0,\"ticks\":\"\"}},\"type\":\"scattergl\"}],\"scattermapbox\":[{\"marker\":{\"colorbar\":{\"outlinewidth\":0,\"ticks\":\"\"}},\"type\":\"scattermapbox\"}],\"scatterpolar\":[{\"marker\":{\"colorbar\":{\"outlinewidth\":0,\"ticks\":\"\"}},\"type\":\"scatterpolar\"}],\"scatterpolargl\":[{\"marker\":{\"colorbar\":{\"outlinewidth\":0,\"ticks\":\"\"}},\"type\":\"scatterpolargl\"}],\"scatterternary\":[{\"marker\":{\"colorbar\":{\"outlinewidth\":0,\"ticks\":\"\"}},\"type\":\"scatterternary\"}],\"surface\":[{\"colorbar\":{\"outlinewidth\":0,\"ticks\":\"\"},\"colorscale\":[[0.0,\"#0d0887\"],[0.1111111111111111,\"#46039f\"],[0.2222222222222222,\"#7201a8\"],[0.3333333333333333,\"#9c179e\"],[0.4444444444444444,\"#bd3786\"],[0.5555555555555556,\"#d8576b\"],[0.6666666666666666,\"#ed7953\"],[0.7777777777777778,\"#fb9f3a\"],[0.8888888888888888,\"#fdca26\"],[1.0,\"#f0f921\"]],\"type\":\"surface\"}],\"table\":[{\"cells\":{\"fill\":{\"color\":\"#EBF0F8\"},\"line\":{\"color\":\"white\"}},\"header\":{\"fill\":{\"color\":\"#C8D4E3\"},\"line\":{\"color\":\"white\"}},\"type\":\"table\"}]},\"layout\":{\"annotationdefaults\":{\"arrowcolor\":\"#2a3f5f\",\"arrowhead\":0,\"arrowwidth\":1},\"autotypenumbers\":\"strict\",\"coloraxis\":{\"colorbar\":{\"outlinewidth\":0,\"ticks\":\"\"}},\"colorscale\":{\"diverging\":[[0,\"#8e0152\"],[0.1,\"#c51b7d\"],[0.2,\"#de77ae\"],[0.3,\"#f1b6da\"],[0.4,\"#fde0ef\"],[0.5,\"#f7f7f7\"],[0.6,\"#e6f5d0\"],[0.7,\"#b8e186\"],[0.8,\"#7fbc41\"],[0.9,\"#4d9221\"],[1,\"#276419\"]],\"sequential\":[[0.0,\"#0d0887\"],[0.1111111111111111,\"#46039f\"],[0.2222222222222222,\"#7201a8\"],[0.3333333333333333,\"#9c179e\"],[0.4444444444444444,\"#bd3786\"],[0.5555555555555556,\"#d8576b\"],[0.6666666666666666,\"#ed7953\"],[0.7777777777777778,\"#fb9f3a\"],[0.8888888888888888,\"#fdca26\"],[1.0,\"#f0f921\"]],\"sequentialminus\":[[0.0,\"#0d0887\"],[0.1111111111111111,\"#46039f\"],[0.2222222222222222,\"#7201a8\"],[0.3333333333333333,\"#9c179e\"],[0.4444444444444444,\"#bd3786\"],[0.5555555555555556,\"#d8576b\"],[0.6666666666666666,\"#ed7953\"],[0.7777777777777778,\"#fb9f3a\"],[0.8888888888888888,\"#fdca26\"],[1.0,\"#f0f921\"]]},\"colorway\":[\"#636efa\",\"#EF553B\",\"#00cc96\",\"#ab63fa\",\"#FFA15A\",\"#19d3f3\",\"#FF6692\",\"#B6E880\",\"#FF97FF\",\"#FECB52\"],\"font\":{\"color\":\"#2a3f5f\"},\"geo\":{\"bgcolor\":\"white\",\"lakecolor\":\"white\",\"landcolor\":\"#E5ECF6\",\"showlakes\":true,\"showland\":true,\"subunitcolor\":\"white\"},\"hoverlabel\":{\"align\":\"left\"},\"hovermode\":\"closest\",\"mapbox\":{\"style\":\"light\"},\"paper_bgcolor\":\"white\",\"plot_bgcolor\":\"#E5ECF6\",\"polar\":{\"angularaxis\":{\"gridcolor\":\"white\",\"linecolor\":\"white\",\"ticks\":\"\"},\"bgcolor\":\"#E5ECF6\",\"radialaxis\":{\"gridcolor\":\"white\",\"linecolor\":\"white\",\"ticks\":\"\"}},\"scene\":{\"xaxis\":{\"backgroundcolor\":\"#E5ECF6\",\"gridcolor\":\"white\",\"gridwidth\":2,\"linecolor\":\"white\",\"showbackground\":true,\"ticks\":\"\",\"zerolinecolor\":\"white\"},\"yaxis\":{\"backgroundcolor\":\"#E5ECF6\",\"gridcolor\":\"white\",\"gridwidth\":2,\"linecolor\":\"white\",\"showbackground\":true,\"ticks\":\"\",\"zerolinecolor\":\"white\"},\"zaxis\":{\"backgroundcolor\":\"#E5ECF6\",\"gridcolor\":\"white\",\"gridwidth\":2,\"linecolor\":\"white\",\"showbackground\":true,\"ticks\":\"\",\"zerolinecolor\":\"white\"}},\"shapedefaults\":{\"line\":{\"color\":\"#2a3f5f\"}},\"ternary\":{\"aaxis\":{\"gridcolor\":\"white\",\"linecolor\":\"white\",\"ticks\":\"\"},\"baxis\":{\"gridcolor\":\"white\",\"linecolor\":\"white\",\"ticks\":\"\"},\"bgcolor\":\"#E5ECF6\",\"caxis\":{\"gridcolor\":\"white\",\"linecolor\":\"white\",\"ticks\":\"\"}},\"title\":{\"x\":0.05},\"xaxis\":{\"automargin\":true,\"gridcolor\":\"white\",\"linecolor\":\"white\",\"ticks\":\"\",\"title\":{\"standoff\":15},\"zerolinecolor\":\"white\",\"zerolinewidth\":2},\"yaxis\":{\"automargin\":true,\"gridcolor\":\"white\",\"linecolor\":\"white\",\"ticks\":\"\",\"title\":{\"standoff\":15},\"zerolinecolor\":\"white\",\"zerolinewidth\":2}}},\"mapbox\":{\"domain\":{\"x\":[0.0,1.0],\"y\":[0.0,1.0]},\"center\":{\"lat\":26.187594999999998,\"lon\":50.534305},\"accesstoken\":\"pk.eyJ1IjoiY29jdGVhdTAiLCJhIjoiY2t6aDhtZmhuMGVmYTJ2bXBkNXpseWZvaiJ9.TXKUaAKTQ5iMf7043QkbPg\",\"zoom\":8,\"style\":\"satellite\"},\"legend\":{\"tracegroupgap\":0,\"itemsizing\":\"constant\"},\"margin\":{\"t\":60},\"height\":700,\"width\":900},                        {\"responsive\": true}                    ).then(function(){\n",
              "                            \n",
              "var gd = document.getElementById('60a7ca1c-9bf0-4766-9516-7ae81adc0721');\n",
              "var x = new MutationObserver(function (mutations, observer) {{\n",
              "        var display = window.getComputedStyle(gd).display;\n",
              "        if (!display || display === 'none') {{\n",
              "            console.log([gd, 'removed!']);\n",
              "            Plotly.purge(gd);\n",
              "            observer.disconnect();\n",
              "        }}\n",
              "}});\n",
              "\n",
              "// Listen for the removal of the full notebook cells\n",
              "var notebookContainer = gd.closest('#notebook-container');\n",
              "if (notebookContainer) {{\n",
              "    x.observe(notebookContainer, {childList: true});\n",
              "}}\n",
              "\n",
              "// Listen for the clearing of the current output cell\n",
              "var outputEl = gd.closest('.output');\n",
              "if (outputEl) {{\n",
              "    x.observe(outputEl, {childList: true});\n",
              "}}\n",
              "\n",
              "                        })                };                            </script>        </div>\n",
              "</body>\n",
              "</html>"
            ]
          },
          "metadata": {}
        }
      ]
    },
    {
      "cell_type": "code",
      "source": [
        "most_pred = b_big[b_big[\"count\"]==b_big[\"count\"].max()]\n",
        "most_pred"
      ],
      "metadata": {
        "colab": {
          "base_uri": "https://localhost:8080/",
          "height": 80
        },
        "id": "N2X370KgI3BK",
        "outputId": "30af1663-c92a-4d1d-bce1-b9607bfaa775"
      },
      "execution_count": null,
      "outputs": [
        {
          "output_type": "execute_result",
          "data": {
            "text/html": [
              "\n",
              "  <div id=\"df-54e40ca9-d8c3-44ea-ab8c-09b77cc389b3\">\n",
              "    <div class=\"colab-df-container\">\n",
              "      <div>\n",
              "<style scoped>\n",
              "    .dataframe tbody tr th:only-of-type {\n",
              "        vertical-align: middle;\n",
              "    }\n",
              "\n",
              "    .dataframe tbody tr th {\n",
              "        vertical-align: top;\n",
              "    }\n",
              "\n",
              "    .dataframe thead th {\n",
              "        text-align: right;\n",
              "    }\n",
              "</style>\n",
              "<table border=\"1\" class=\"dataframe\">\n",
              "  <thead>\n",
              "    <tr style=\"text-align: right;\">\n",
              "      <th></th>\n",
              "      <th>lat</th>\n",
              "      <th>lon</th>\n",
              "      <th>address</th>\n",
              "      <th>count</th>\n",
              "    </tr>\n",
              "  </thead>\n",
              "  <tbody>\n",
              "    <tr>\n",
              "      <th>11</th>\n",
              "      <td>26.217</td>\n",
              "      <td>50.5062</td>\n",
              "      <td>Rd No 7121</td>\n",
              "      <td>163</td>\n",
              "    </tr>\n",
              "  </tbody>\n",
              "</table>\n",
              "</div>\n",
              "      <button class=\"colab-df-convert\" onclick=\"convertToInteractive('df-54e40ca9-d8c3-44ea-ab8c-09b77cc389b3')\"\n",
              "              title=\"Convert this dataframe to an interactive table.\"\n",
              "              style=\"display:none;\">\n",
              "        \n",
              "  <svg xmlns=\"http://www.w3.org/2000/svg\" height=\"24px\"viewBox=\"0 0 24 24\"\n",
              "       width=\"24px\">\n",
              "    <path d=\"M0 0h24v24H0V0z\" fill=\"none\"/>\n",
              "    <path d=\"M18.56 5.44l.94 2.06.94-2.06 2.06-.94-2.06-.94-.94-2.06-.94 2.06-2.06.94zm-11 1L8.5 8.5l.94-2.06 2.06-.94-2.06-.94L8.5 2.5l-.94 2.06-2.06.94zm10 10l.94 2.06.94-2.06 2.06-.94-2.06-.94-.94-2.06-.94 2.06-2.06.94z\"/><path d=\"M17.41 7.96l-1.37-1.37c-.4-.4-.92-.59-1.43-.59-.52 0-1.04.2-1.43.59L10.3 9.45l-7.72 7.72c-.78.78-.78 2.05 0 2.83L4 21.41c.39.39.9.59 1.41.59.51 0 1.02-.2 1.41-.59l7.78-7.78 2.81-2.81c.8-.78.8-2.07 0-2.86zM5.41 20L4 18.59l7.72-7.72 1.47 1.35L5.41 20z\"/>\n",
              "  </svg>\n",
              "      </button>\n",
              "      \n",
              "  <style>\n",
              "    .colab-df-container {\n",
              "      display:flex;\n",
              "      flex-wrap:wrap;\n",
              "      gap: 12px;\n",
              "    }\n",
              "\n",
              "    .colab-df-convert {\n",
              "      background-color: #E8F0FE;\n",
              "      border: none;\n",
              "      border-radius: 50%;\n",
              "      cursor: pointer;\n",
              "      display: none;\n",
              "      fill: #1967D2;\n",
              "      height: 32px;\n",
              "      padding: 0 0 0 0;\n",
              "      width: 32px;\n",
              "    }\n",
              "\n",
              "    .colab-df-convert:hover {\n",
              "      background-color: #E2EBFA;\n",
              "      box-shadow: 0px 1px 2px rgba(60, 64, 67, 0.3), 0px 1px 3px 1px rgba(60, 64, 67, 0.15);\n",
              "      fill: #174EA6;\n",
              "    }\n",
              "\n",
              "    [theme=dark] .colab-df-convert {\n",
              "      background-color: #3B4455;\n",
              "      fill: #D2E3FC;\n",
              "    }\n",
              "\n",
              "    [theme=dark] .colab-df-convert:hover {\n",
              "      background-color: #434B5C;\n",
              "      box-shadow: 0px 1px 3px 1px rgba(0, 0, 0, 0.15);\n",
              "      filter: drop-shadow(0px 1px 2px rgba(0, 0, 0, 0.3));\n",
              "      fill: #FFFFFF;\n",
              "    }\n",
              "  </style>\n",
              "\n",
              "      <script>\n",
              "        const buttonEl =\n",
              "          document.querySelector('#df-54e40ca9-d8c3-44ea-ab8c-09b77cc389b3 button.colab-df-convert');\n",
              "        buttonEl.style.display =\n",
              "          google.colab.kernel.accessAllowed ? 'block' : 'none';\n",
              "\n",
              "        async function convertToInteractive(key) {\n",
              "          const element = document.querySelector('#df-54e40ca9-d8c3-44ea-ab8c-09b77cc389b3');\n",
              "          const dataTable =\n",
              "            await google.colab.kernel.invokeFunction('convertToInteractive',\n",
              "                                                     [key], {});\n",
              "          if (!dataTable) return;\n",
              "\n",
              "          const docLinkHtml = 'Like what you see? Visit the ' +\n",
              "            '<a target=\"_blank\" href=https://colab.research.google.com/notebooks/data_table.ipynb>data table notebook</a>'\n",
              "            + ' to learn more about interactive tables.';\n",
              "          element.innerHTML = '';\n",
              "          dataTable['output_type'] = 'display_data';\n",
              "          await google.colab.output.renderOutput(dataTable, element);\n",
              "          const docLink = document.createElement('div');\n",
              "          docLink.innerHTML = docLinkHtml;\n",
              "          element.appendChild(docLink);\n",
              "        }\n",
              "      </script>\n",
              "    </div>\n",
              "  </div>\n",
              "  "
            ],
            "text/plain": [
              "       lat      lon     address  count\n",
              "11  26.217  50.5062  Rd No 7121    163"
            ]
          },
          "metadata": {},
          "execution_count": 15
        }
      ]
    },
    {
      "cell_type": "code",
      "source": [
        "most_prot = big_protests[big_protests[\"count\"]==big_protests[\"count\"].max()]\n",
        "most_prot"
      ],
      "metadata": {
        "colab": {
          "base_uri": "https://localhost:8080/",
          "height": 80
        },
        "id": "1b1E8rFRiu9e",
        "outputId": "7598283c-950c-4bb6-bdc5-12a7c489a523"
      },
      "execution_count": null,
      "outputs": [
        {
          "output_type": "execute_result",
          "data": {
            "text/html": [
              "\n",
              "  <div id=\"df-b21a7975-6431-44a1-9474-51b3d49e87a0\">\n",
              "    <div class=\"colab-df-container\">\n",
              "      <div>\n",
              "<style scoped>\n",
              "    .dataframe tbody tr th:only-of-type {\n",
              "        vertical-align: middle;\n",
              "    }\n",
              "\n",
              "    .dataframe tbody tr th {\n",
              "        vertical-align: top;\n",
              "    }\n",
              "\n",
              "    .dataframe thead th {\n",
              "        text-align: right;\n",
              "    }\n",
              "</style>\n",
              "<table border=\"1\" class=\"dataframe\">\n",
              "  <thead>\n",
              "    <tr style=\"text-align: right;\">\n",
              "      <th></th>\n",
              "      <th>latitude</th>\n",
              "      <th>longitude</th>\n",
              "      <th>count</th>\n",
              "    </tr>\n",
              "  </thead>\n",
              "  <tbody>\n",
              "    <tr>\n",
              "      <th>41</th>\n",
              "      <td>26.2175</td>\n",
              "      <td>50.5069</td>\n",
              "      <td>156</td>\n",
              "    </tr>\n",
              "  </tbody>\n",
              "</table>\n",
              "</div>\n",
              "      <button class=\"colab-df-convert\" onclick=\"convertToInteractive('df-b21a7975-6431-44a1-9474-51b3d49e87a0')\"\n",
              "              title=\"Convert this dataframe to an interactive table.\"\n",
              "              style=\"display:none;\">\n",
              "        \n",
              "  <svg xmlns=\"http://www.w3.org/2000/svg\" height=\"24px\"viewBox=\"0 0 24 24\"\n",
              "       width=\"24px\">\n",
              "    <path d=\"M0 0h24v24H0V0z\" fill=\"none\"/>\n",
              "    <path d=\"M18.56 5.44l.94 2.06.94-2.06 2.06-.94-2.06-.94-.94-2.06-.94 2.06-2.06.94zm-11 1L8.5 8.5l.94-2.06 2.06-.94-2.06-.94L8.5 2.5l-.94 2.06-2.06.94zm10 10l.94 2.06.94-2.06 2.06-.94-2.06-.94-.94-2.06-.94 2.06-2.06.94z\"/><path d=\"M17.41 7.96l-1.37-1.37c-.4-.4-.92-.59-1.43-.59-.52 0-1.04.2-1.43.59L10.3 9.45l-7.72 7.72c-.78.78-.78 2.05 0 2.83L4 21.41c.39.39.9.59 1.41.59.51 0 1.02-.2 1.41-.59l7.78-7.78 2.81-2.81c.8-.78.8-2.07 0-2.86zM5.41 20L4 18.59l7.72-7.72 1.47 1.35L5.41 20z\"/>\n",
              "  </svg>\n",
              "      </button>\n",
              "      \n",
              "  <style>\n",
              "    .colab-df-container {\n",
              "      display:flex;\n",
              "      flex-wrap:wrap;\n",
              "      gap: 12px;\n",
              "    }\n",
              "\n",
              "    .colab-df-convert {\n",
              "      background-color: #E8F0FE;\n",
              "      border: none;\n",
              "      border-radius: 50%;\n",
              "      cursor: pointer;\n",
              "      display: none;\n",
              "      fill: #1967D2;\n",
              "      height: 32px;\n",
              "      padding: 0 0 0 0;\n",
              "      width: 32px;\n",
              "    }\n",
              "\n",
              "    .colab-df-convert:hover {\n",
              "      background-color: #E2EBFA;\n",
              "      box-shadow: 0px 1px 2px rgba(60, 64, 67, 0.3), 0px 1px 3px 1px rgba(60, 64, 67, 0.15);\n",
              "      fill: #174EA6;\n",
              "    }\n",
              "\n",
              "    [theme=dark] .colab-df-convert {\n",
              "      background-color: #3B4455;\n",
              "      fill: #D2E3FC;\n",
              "    }\n",
              "\n",
              "    [theme=dark] .colab-df-convert:hover {\n",
              "      background-color: #434B5C;\n",
              "      box-shadow: 0px 1px 3px 1px rgba(0, 0, 0, 0.15);\n",
              "      filter: drop-shadow(0px 1px 2px rgba(0, 0, 0, 0.3));\n",
              "      fill: #FFFFFF;\n",
              "    }\n",
              "  </style>\n",
              "\n",
              "      <script>\n",
              "        const buttonEl =\n",
              "          document.querySelector('#df-b21a7975-6431-44a1-9474-51b3d49e87a0 button.colab-df-convert');\n",
              "        buttonEl.style.display =\n",
              "          google.colab.kernel.accessAllowed ? 'block' : 'none';\n",
              "\n",
              "        async function convertToInteractive(key) {\n",
              "          const element = document.querySelector('#df-b21a7975-6431-44a1-9474-51b3d49e87a0');\n",
              "          const dataTable =\n",
              "            await google.colab.kernel.invokeFunction('convertToInteractive',\n",
              "                                                     [key], {});\n",
              "          if (!dataTable) return;\n",
              "\n",
              "          const docLinkHtml = 'Like what you see? Visit the ' +\n",
              "            '<a target=\"_blank\" href=https://colab.research.google.com/notebooks/data_table.ipynb>data table notebook</a>'\n",
              "            + ' to learn more about interactive tables.';\n",
              "          element.innerHTML = '';\n",
              "          dataTable['output_type'] = 'display_data';\n",
              "          await google.colab.output.renderOutput(dataTable, element);\n",
              "          const docLink = document.createElement('div');\n",
              "          docLink.innerHTML = docLinkHtml;\n",
              "          element.appendChild(docLink);\n",
              "        }\n",
              "      </script>\n",
              "    </div>\n",
              "  </div>\n",
              "  "
            ],
            "text/plain": [
              "    latitude  longitude  count\n",
              "41   26.2175    50.5069    156"
            ]
          },
          "metadata": {},
          "execution_count": 88
        }
      ]
    },
    {
      "cell_type": "markdown",
      "source": [
        "# 2. The accuracy of predictions and is there any correlationship between predictions and protests?"
      ],
      "metadata": {
        "id": "FL5ucQGmmx9r"
      }
    },
    {
      "cell_type": "markdown",
      "source": [
        "We choose 3 places and try to find some pattern to analyze the possible relationship between predictions and protests.\n",
        "\n",
        "The three places are address with the most, least, median number of predictions.\n",
        "\n",
        "Compare each with the corresponding nearest protest address in a single time series plot to see the accurary of predictions and if the protests happened would affect the following day's predictions."
      ],
      "metadata": {
        "id": "8XuW55I-noo2"
      }
    },
    {
      "cell_type": "code",
      "source": [
        "import numpy\n",
        "import pandas\n",
        "from matplotlib import pyplot\n",
        "from pandas import DataFrame, merge\n",
        "\n"
      ],
      "metadata": {
        "id": "azMjZBwyGF0n"
      },
      "execution_count": null,
      "outputs": []
    },
    {
      "cell_type": "markdown",
      "source": [
        "Address with most predictions vs nearest protest place"
      ],
      "metadata": {
        "id": "dCb5BHirnJqr"
      }
    },
    {
      "cell_type": "code",
      "source": [
        "pred_time = pandas.to_datetime(b[b[\"address\"]==\"Rd No 7121\"][\"date\"])\n",
        "pred = pandas.DataFrame({\"date\":pred_time,\n",
        "                        \"type\":\"predictions\"})\n",
        "prot_time = pandas.to_datetime(protests[(protests[\"latitude\"]==26.2175)& (protests[\"longitude\"]==50.5069)& (protests[\"event_date\"]<=max(pred[\"date\"]))][\"event_date\"])\n",
        "prot = pandas.DataFrame({\"date\":prot_time,\n",
        "                        \"type\":\"protests\"})\n",
        "\n",
        "m = merge(pred,prot,on=[\"type\",\"date\"],how=\"outer\")"
      ],
      "metadata": {
        "id": "uXixUuTwnIy4"
      },
      "execution_count": null,
      "outputs": []
    },
    {
      "cell_type": "code",
      "source": [
        "from plotly.express import histogram\n",
        "histogram(m,x=\"date\", facet_row=\"type\",nbins=1000,color=\"type\")"
      ],
      "metadata": {
        "colab": {
          "base_uri": "https://localhost:8080/",
          "height": 542
        },
        "id": "ooaLZoxoHju8",
        "outputId": "9bf2201a-d399-42ca-9827-b0776213fe76"
      },
      "execution_count": null,
      "outputs": [
        {
          "output_type": "display_data",
          "data": {
            "text/html": [
              "<html>\n",
              "<head><meta charset=\"utf-8\" /></head>\n",
              "<body>\n",
              "    <div>            <script src=\"https://cdnjs.cloudflare.com/ajax/libs/mathjax/2.7.5/MathJax.js?config=TeX-AMS-MML_SVG\"></script><script type=\"text/javascript\">if (window.MathJax) {MathJax.Hub.Config({SVG: {font: \"STIX-Web\"}});}</script>                <script type=\"text/javascript\">window.PlotlyConfig = {MathJaxConfig: 'local'};</script>\n",
              "        <script src=\"https://cdn.plot.ly/plotly-2.8.3.min.js\"></script>                <div id=\"ba5cfba4-4562-484d-a0f7-891d6a8fbdc9\" class=\"plotly-graph-div\" style=\"height:525px; width:100%;\"></div>            <script type=\"text/javascript\">                                    window.PLOTLYENV=window.PLOTLYENV || {};                                    if (document.getElementById(\"ba5cfba4-4562-484d-a0f7-891d6a8fbdc9\")) {                    Plotly.newPlot(                        \"ba5cfba4-4562-484d-a0f7-891d6a8fbdc9\",                        [{\"alignmentgroup\":\"True\",\"bingroup\":\"x\",\"hovertemplate\":\"type=predictions<br>date=%{x}<br>count=%{y}<extra></extra>\",\"legendgroup\":\"predictions\",\"marker\":{\"color\":\"#636efa\",\"pattern\":{\"shape\":\"\"}},\"name\":\"predictions\",\"nbinsx\":1000,\"offsetgroup\":\"predictions\",\"orientation\":\"v\",\"showlegend\":true,\"x\":[\"2019-07-03T00:00:00\",\"2019-05-16T00:00:00\",\"2019-05-08T00:00:00\",\"2018-12-14T00:00:00\",\"2019-06-01T00:00:00\",\"2019-06-24T00:00:00\",\"2018-12-31T00:00:00\",\"2019-03-29T00:00:00\",\"2019-04-14T00:00:00\",\"2018-12-20T00:00:00\",\"2019-04-20T00:00:00\",\"2019-03-26T00:00:00\",\"2019-03-03T00:00:00\",\"2019-02-24T00:00:00\",\"2019-01-16T00:00:00\",\"2019-05-22T00:00:00\",\"2019-06-10T00:00:00\",\"2019-01-08T00:00:00\",\"2018-12-05T00:00:00\",\"2019-06-23T00:00:00\",\"2019-05-11T00:00:00\",\"2019-03-30T00:00:00\",\"2019-04-28T00:00:00\",\"2018-12-13T00:00:00\",\"2019-06-18T00:00:00\",\"2019-06-06T00:00:00\",\"2019-03-15T00:00:00\",\"2018-12-27T00:00:00\",\"2019-03-21T00:00:00\",\"2019-03-04T00:00:00\",\"2019-04-27T00:00:00\",\"2019-06-17T00:00:00\",\"2019-04-02T00:00:00\",\"2019-01-11T00:00:00\",\"2019-03-02T00:00:00\",\"2019-02-23T00:00:00\",\"2019-02-25T00:00:00\",\"2019-04-04T00:00:00\",\"2018-12-02T00:00:00\",\"2019-07-04T00:00:00\",\"2019-01-09T00:00:00\",\"2019-05-18T00:00:00\",\"2018-12-04T00:00:00\",\"2019-03-27T00:00:00\",\"2019-07-13T00:00:00\",\"2019-04-21T00:00:00\",\"2019-01-06T00:00:00\",\"2018-12-15T00:00:00\",\"2019-04-15T00:00:00\",\"2019-06-25T00:00:00\",\"2019-07-02T00:00:00\",\"2019-05-17T00:00:00\",\"2019-03-13T00:00:00\",\"2019-05-09T00:00:00\",\"2019-03-28T00:00:00\",\"2019-04-30T00:00:00\",\"2019-06-16T00:00:00\",\"2019-01-10T00:00:00\",\"2019-05-24T00:00:00\",\"2019-03-05T00:00:00\",\"2018-12-03T00:00:00\",\"2018-12-30T00:00:00\",\"2019-06-08T00:00:00\",\"2019-04-03T00:00:00\",\"2019-05-01T00:00:00\",\"2019-04-26T00:00:00\",\"2018-12-26T00:00:00\",\"2019-06-07T00:00:00\",\"2019-06-19T00:00:00\",\"2018-12-12T00:00:00\",\"2018-12-29T00:00:00\",\"2019-07-05T00:00:00\",\"2019-03-14T00:00:00\",\"2019-04-12T00:00:00\",\"2019-01-01T00:00:00\",\"2019-03-31T00:00:00\",\"2019-05-10T00:00:00\",\"2019-04-29T00:00:00\",\"2019-03-06T00:00:00\",\"2019-01-13T00:00:00\",\"2019-06-15T00:00:00\",\"2019-07-09T00:00:00\",\"2019-03-18T00:00:00\",\"2018-12-25T00:00:00\",\"2019-06-30T00:00:00\",\"2019-03-23T00:00:00\",\"2019-05-02T00:00:00\",\"2019-05-28T00:00:00\",\"2019-06-04T00:00:00\",\"2018-12-11T00:00:00\",\"2019-03-09T00:00:00\",\"2019-04-25T00:00:00\",\"2019-03-17T00:00:00\",\"2019-06-21T00:00:00\",\"2019-04-11T00:00:00\",\"2019-05-13T00:00:00\",\"2019-07-06T00:00:00\",\"2019-04-07T00:00:00\",\"2018-12-19T00:00:00\",\"2019-01-14T00:00:00\",\"2018-12-22T00:00:00\",\"2019-06-12T00:00:00\",\"2019-03-01T00:00:00\",\"2019-04-19T00:00:00\",\"2019-05-20T00:00:00\",\"2018-12-07T00:00:00\",\"2019-02-26T00:00:00\",\"2019-06-29T00:00:00\",\"2019-04-22T00:00:00\",\"2019-07-10T00:00:00\",\"2019-03-24T00:00:00\",\"2019-04-08T00:00:00\",\"2019-01-05T00:00:00\",\"2018-12-16T00:00:00\",\"2019-03-10T00:00:00\",\"2019-06-26T00:00:00\",\"2019-06-03T00:00:00\",\"2019-05-14T00:00:00\",\"2018-12-08T00:00:00\",\"2019-07-01T00:00:00\",\"2019-06-20T00:00:00\",\"2018-12-10T00:00:00\",\"2019-07-07T00:00:00\",\"2019-03-08T00:00:00\",\"2019-05-29T00:00:00\",\"2019-01-03T00:00:00\",\"2018-12-24T00:00:00\",\"2019-06-05T00:00:00\",\"2019-04-24T00:00:00\",\"2019-07-16T00:00:00\",\"2019-03-22T00:00:00\",\"2019-07-08T00:00:00\",\"2019-04-10T00:00:00\",\"2019-03-16T00:00:00\",\"2019-05-03T00:00:00\",\"2019-04-01T00:00:00\",\"2019-05-26T00:00:00\",\"2019-05-31T00:00:00\",\"2019-01-12T00:00:00\",\"2019-06-14T00:00:00\",\"2019-03-19T00:00:00\",\"2019-02-28T00:00:00\",\"2018-12-01T00:00:00\",\"2019-06-02T00:00:00\",\"2018-12-17T00:00:00\",\"2019-06-27T00:00:00\",\"2019-05-30T00:00:00\",\"2019-01-04T00:00:00\",\"2019-04-09T00:00:00\",\"2019-03-11T00:00:00\",\"2019-06-28T00:00:00\",\"2018-12-23T00:00:00\",\"2019-03-25T00:00:00\",\"2019-05-21T00:00:00\",\"2019-04-18T00:00:00\",\"2019-02-27T00:00:00\",\"2019-05-04T00:00:00\",\"2019-01-15T00:00:00\",\"2018-12-18T00:00:00\",\"2019-04-06T00:00:00\",\"2019-04-23T00:00:00\",\"2018-12-06T00:00:00\",\"2019-06-13T00:00:00\"],\"xaxis\":\"x2\",\"yaxis\":\"y2\",\"type\":\"histogram\"},{\"alignmentgroup\":\"True\",\"bingroup\":\"x\",\"hovertemplate\":\"type=protests<br>date=%{x}<br>count=%{y}<extra></extra>\",\"legendgroup\":\"protests\",\"marker\":{\"color\":\"#EF553B\",\"pattern\":{\"shape\":\"\"}},\"name\":\"protests\",\"nbinsx\":1000,\"offsetgroup\":\"protests\",\"orientation\":\"v\",\"showlegend\":true,\"x\":[\"2019-07-12T00:00:00\",\"2019-07-11T00:00:00\",\"2019-07-04T00:00:00\",\"2019-06-28T00:00:00\",\"2019-06-27T00:00:00\",\"2019-06-21T00:00:00\",\"2019-06-19T00:00:00\",\"2019-06-14T00:00:00\",\"2019-06-14T00:00:00\",\"2019-06-04T00:00:00\",\"2019-06-01T00:00:00\",\"2019-05-31T00:00:00\",\"2019-05-30T00:00:00\",\"2019-05-23T00:00:00\",\"2019-05-19T00:00:00\",\"2019-05-18T00:00:00\",\"2019-05-17T00:00:00\",\"2019-05-14T00:00:00\",\"2019-05-13T00:00:00\",\"2019-05-12T00:00:00\",\"2019-05-10T00:00:00\",\"2019-05-03T00:00:00\",\"2019-05-01T00:00:00\",\"2019-04-28T00:00:00\",\"2019-04-26T00:00:00\",\"2019-04-25T00:00:00\",\"2019-04-24T00:00:00\",\"2019-04-20T00:00:00\",\"2019-04-19T00:00:00\",\"2019-04-18T00:00:00\",\"2019-04-13T00:00:00\",\"2019-04-12T00:00:00\",\"2019-04-05T00:00:00\",\"2019-04-05T00:00:00\",\"2019-03-29T00:00:00\",\"2019-03-28T00:00:00\",\"2019-03-28T00:00:00\",\"2019-03-23T00:00:00\",\"2019-03-22T00:00:00\",\"2019-03-16T00:00:00\",\"2019-03-15T00:00:00\",\"2019-03-14T00:00:00\",\"2019-03-01T00:00:00\",\"2019-02-28T00:00:00\",\"2019-02-27T00:00:00\",\"2019-02-22T00:00:00\",\"2019-02-21T00:00:00\",\"2019-02-17T00:00:00\",\"2019-02-15T00:00:00\",\"2019-02-14T00:00:00\",\"2019-02-14T00:00:00\",\"2019-02-13T00:00:00\"],\"xaxis\":\"x\",\"yaxis\":\"y\",\"type\":\"histogram\"}],                        {\"template\":{\"data\":{\"bar\":[{\"error_x\":{\"color\":\"#2a3f5f\"},\"error_y\":{\"color\":\"#2a3f5f\"},\"marker\":{\"line\":{\"color\":\"#E5ECF6\",\"width\":0.5},\"pattern\":{\"fillmode\":\"overlay\",\"size\":10,\"solidity\":0.2}},\"type\":\"bar\"}],\"barpolar\":[{\"marker\":{\"line\":{\"color\":\"#E5ECF6\",\"width\":0.5},\"pattern\":{\"fillmode\":\"overlay\",\"size\":10,\"solidity\":0.2}},\"type\":\"barpolar\"}],\"carpet\":[{\"aaxis\":{\"endlinecolor\":\"#2a3f5f\",\"gridcolor\":\"white\",\"linecolor\":\"white\",\"minorgridcolor\":\"white\",\"startlinecolor\":\"#2a3f5f\"},\"baxis\":{\"endlinecolor\":\"#2a3f5f\",\"gridcolor\":\"white\",\"linecolor\":\"white\",\"minorgridcolor\":\"white\",\"startlinecolor\":\"#2a3f5f\"},\"type\":\"carpet\"}],\"choropleth\":[{\"colorbar\":{\"outlinewidth\":0,\"ticks\":\"\"},\"type\":\"choropleth\"}],\"contour\":[{\"colorbar\":{\"outlinewidth\":0,\"ticks\":\"\"},\"colorscale\":[[0.0,\"#0d0887\"],[0.1111111111111111,\"#46039f\"],[0.2222222222222222,\"#7201a8\"],[0.3333333333333333,\"#9c179e\"],[0.4444444444444444,\"#bd3786\"],[0.5555555555555556,\"#d8576b\"],[0.6666666666666666,\"#ed7953\"],[0.7777777777777778,\"#fb9f3a\"],[0.8888888888888888,\"#fdca26\"],[1.0,\"#f0f921\"]],\"type\":\"contour\"}],\"contourcarpet\":[{\"colorbar\":{\"outlinewidth\":0,\"ticks\":\"\"},\"type\":\"contourcarpet\"}],\"heatmap\":[{\"colorbar\":{\"outlinewidth\":0,\"ticks\":\"\"},\"colorscale\":[[0.0,\"#0d0887\"],[0.1111111111111111,\"#46039f\"],[0.2222222222222222,\"#7201a8\"],[0.3333333333333333,\"#9c179e\"],[0.4444444444444444,\"#bd3786\"],[0.5555555555555556,\"#d8576b\"],[0.6666666666666666,\"#ed7953\"],[0.7777777777777778,\"#fb9f3a\"],[0.8888888888888888,\"#fdca26\"],[1.0,\"#f0f921\"]],\"type\":\"heatmap\"}],\"heatmapgl\":[{\"colorbar\":{\"outlinewidth\":0,\"ticks\":\"\"},\"colorscale\":[[0.0,\"#0d0887\"],[0.1111111111111111,\"#46039f\"],[0.2222222222222222,\"#7201a8\"],[0.3333333333333333,\"#9c179e\"],[0.4444444444444444,\"#bd3786\"],[0.5555555555555556,\"#d8576b\"],[0.6666666666666666,\"#ed7953\"],[0.7777777777777778,\"#fb9f3a\"],[0.8888888888888888,\"#fdca26\"],[1.0,\"#f0f921\"]],\"type\":\"heatmapgl\"}],\"histogram\":[{\"marker\":{\"pattern\":{\"fillmode\":\"overlay\",\"size\":10,\"solidity\":0.2}},\"type\":\"histogram\"}],\"histogram2d\":[{\"colorbar\":{\"outlinewidth\":0,\"ticks\":\"\"},\"colorscale\":[[0.0,\"#0d0887\"],[0.1111111111111111,\"#46039f\"],[0.2222222222222222,\"#7201a8\"],[0.3333333333333333,\"#9c179e\"],[0.4444444444444444,\"#bd3786\"],[0.5555555555555556,\"#d8576b\"],[0.6666666666666666,\"#ed7953\"],[0.7777777777777778,\"#fb9f3a\"],[0.8888888888888888,\"#fdca26\"],[1.0,\"#f0f921\"]],\"type\":\"histogram2d\"}],\"histogram2dcontour\":[{\"colorbar\":{\"outlinewidth\":0,\"ticks\":\"\"},\"colorscale\":[[0.0,\"#0d0887\"],[0.1111111111111111,\"#46039f\"],[0.2222222222222222,\"#7201a8\"],[0.3333333333333333,\"#9c179e\"],[0.4444444444444444,\"#bd3786\"],[0.5555555555555556,\"#d8576b\"],[0.6666666666666666,\"#ed7953\"],[0.7777777777777778,\"#fb9f3a\"],[0.8888888888888888,\"#fdca26\"],[1.0,\"#f0f921\"]],\"type\":\"histogram2dcontour\"}],\"mesh3d\":[{\"colorbar\":{\"outlinewidth\":0,\"ticks\":\"\"},\"type\":\"mesh3d\"}],\"parcoords\":[{\"line\":{\"colorbar\":{\"outlinewidth\":0,\"ticks\":\"\"}},\"type\":\"parcoords\"}],\"pie\":[{\"automargin\":true,\"type\":\"pie\"}],\"scatter\":[{\"marker\":{\"colorbar\":{\"outlinewidth\":0,\"ticks\":\"\"}},\"type\":\"scatter\"}],\"scatter3d\":[{\"line\":{\"colorbar\":{\"outlinewidth\":0,\"ticks\":\"\"}},\"marker\":{\"colorbar\":{\"outlinewidth\":0,\"ticks\":\"\"}},\"type\":\"scatter3d\"}],\"scattercarpet\":[{\"marker\":{\"colorbar\":{\"outlinewidth\":0,\"ticks\":\"\"}},\"type\":\"scattercarpet\"}],\"scattergeo\":[{\"marker\":{\"colorbar\":{\"outlinewidth\":0,\"ticks\":\"\"}},\"type\":\"scattergeo\"}],\"scattergl\":[{\"marker\":{\"colorbar\":{\"outlinewidth\":0,\"ticks\":\"\"}},\"type\":\"scattergl\"}],\"scattermapbox\":[{\"marker\":{\"colorbar\":{\"outlinewidth\":0,\"ticks\":\"\"}},\"type\":\"scattermapbox\"}],\"scatterpolar\":[{\"marker\":{\"colorbar\":{\"outlinewidth\":0,\"ticks\":\"\"}},\"type\":\"scatterpolar\"}],\"scatterpolargl\":[{\"marker\":{\"colorbar\":{\"outlinewidth\":0,\"ticks\":\"\"}},\"type\":\"scatterpolargl\"}],\"scatterternary\":[{\"marker\":{\"colorbar\":{\"outlinewidth\":0,\"ticks\":\"\"}},\"type\":\"scatterternary\"}],\"surface\":[{\"colorbar\":{\"outlinewidth\":0,\"ticks\":\"\"},\"colorscale\":[[0.0,\"#0d0887\"],[0.1111111111111111,\"#46039f\"],[0.2222222222222222,\"#7201a8\"],[0.3333333333333333,\"#9c179e\"],[0.4444444444444444,\"#bd3786\"],[0.5555555555555556,\"#d8576b\"],[0.6666666666666666,\"#ed7953\"],[0.7777777777777778,\"#fb9f3a\"],[0.8888888888888888,\"#fdca26\"],[1.0,\"#f0f921\"]],\"type\":\"surface\"}],\"table\":[{\"cells\":{\"fill\":{\"color\":\"#EBF0F8\"},\"line\":{\"color\":\"white\"}},\"header\":{\"fill\":{\"color\":\"#C8D4E3\"},\"line\":{\"color\":\"white\"}},\"type\":\"table\"}]},\"layout\":{\"annotationdefaults\":{\"arrowcolor\":\"#2a3f5f\",\"arrowhead\":0,\"arrowwidth\":1},\"autotypenumbers\":\"strict\",\"coloraxis\":{\"colorbar\":{\"outlinewidth\":0,\"ticks\":\"\"}},\"colorscale\":{\"diverging\":[[0,\"#8e0152\"],[0.1,\"#c51b7d\"],[0.2,\"#de77ae\"],[0.3,\"#f1b6da\"],[0.4,\"#fde0ef\"],[0.5,\"#f7f7f7\"],[0.6,\"#e6f5d0\"],[0.7,\"#b8e186\"],[0.8,\"#7fbc41\"],[0.9,\"#4d9221\"],[1,\"#276419\"]],\"sequential\":[[0.0,\"#0d0887\"],[0.1111111111111111,\"#46039f\"],[0.2222222222222222,\"#7201a8\"],[0.3333333333333333,\"#9c179e\"],[0.4444444444444444,\"#bd3786\"],[0.5555555555555556,\"#d8576b\"],[0.6666666666666666,\"#ed7953\"],[0.7777777777777778,\"#fb9f3a\"],[0.8888888888888888,\"#fdca26\"],[1.0,\"#f0f921\"]],\"sequentialminus\":[[0.0,\"#0d0887\"],[0.1111111111111111,\"#46039f\"],[0.2222222222222222,\"#7201a8\"],[0.3333333333333333,\"#9c179e\"],[0.4444444444444444,\"#bd3786\"],[0.5555555555555556,\"#d8576b\"],[0.6666666666666666,\"#ed7953\"],[0.7777777777777778,\"#fb9f3a\"],[0.8888888888888888,\"#fdca26\"],[1.0,\"#f0f921\"]]},\"colorway\":[\"#636efa\",\"#EF553B\",\"#00cc96\",\"#ab63fa\",\"#FFA15A\",\"#19d3f3\",\"#FF6692\",\"#B6E880\",\"#FF97FF\",\"#FECB52\"],\"font\":{\"color\":\"#2a3f5f\"},\"geo\":{\"bgcolor\":\"white\",\"lakecolor\":\"white\",\"landcolor\":\"#E5ECF6\",\"showlakes\":true,\"showland\":true,\"subunitcolor\":\"white\"},\"hoverlabel\":{\"align\":\"left\"},\"hovermode\":\"closest\",\"mapbox\":{\"style\":\"light\"},\"paper_bgcolor\":\"white\",\"plot_bgcolor\":\"#E5ECF6\",\"polar\":{\"angularaxis\":{\"gridcolor\":\"white\",\"linecolor\":\"white\",\"ticks\":\"\"},\"bgcolor\":\"#E5ECF6\",\"radialaxis\":{\"gridcolor\":\"white\",\"linecolor\":\"white\",\"ticks\":\"\"}},\"scene\":{\"xaxis\":{\"backgroundcolor\":\"#E5ECF6\",\"gridcolor\":\"white\",\"gridwidth\":2,\"linecolor\":\"white\",\"showbackground\":true,\"ticks\":\"\",\"zerolinecolor\":\"white\"},\"yaxis\":{\"backgroundcolor\":\"#E5ECF6\",\"gridcolor\":\"white\",\"gridwidth\":2,\"linecolor\":\"white\",\"showbackground\":true,\"ticks\":\"\",\"zerolinecolor\":\"white\"},\"zaxis\":{\"backgroundcolor\":\"#E5ECF6\",\"gridcolor\":\"white\",\"gridwidth\":2,\"linecolor\":\"white\",\"showbackground\":true,\"ticks\":\"\",\"zerolinecolor\":\"white\"}},\"shapedefaults\":{\"line\":{\"color\":\"#2a3f5f\"}},\"ternary\":{\"aaxis\":{\"gridcolor\":\"white\",\"linecolor\":\"white\",\"ticks\":\"\"},\"baxis\":{\"gridcolor\":\"white\",\"linecolor\":\"white\",\"ticks\":\"\"},\"bgcolor\":\"#E5ECF6\",\"caxis\":{\"gridcolor\":\"white\",\"linecolor\":\"white\",\"ticks\":\"\"}},\"title\":{\"x\":0.05},\"xaxis\":{\"automargin\":true,\"gridcolor\":\"white\",\"linecolor\":\"white\",\"ticks\":\"\",\"title\":{\"standoff\":15},\"zerolinecolor\":\"white\",\"zerolinewidth\":2},\"yaxis\":{\"automargin\":true,\"gridcolor\":\"white\",\"linecolor\":\"white\",\"ticks\":\"\",\"title\":{\"standoff\":15},\"zerolinecolor\":\"white\",\"zerolinewidth\":2}}},\"xaxis\":{\"anchor\":\"y\",\"domain\":[0.0,0.98],\"title\":{\"text\":\"date\"}},\"yaxis\":{\"anchor\":\"x\",\"domain\":[0.0,0.485],\"title\":{\"text\":\"count\"}},\"xaxis2\":{\"anchor\":\"y2\",\"domain\":[0.0,0.98],\"matches\":\"x\",\"showticklabels\":false},\"yaxis2\":{\"anchor\":\"x2\",\"domain\":[0.515,1.0],\"matches\":\"y\",\"title\":{\"text\":\"count\"}},\"annotations\":[{\"font\":{},\"showarrow\":false,\"text\":\"type=protests\",\"textangle\":90,\"x\":0.98,\"xanchor\":\"left\",\"xref\":\"paper\",\"y\":0.2425,\"yanchor\":\"middle\",\"yref\":\"paper\"},{\"font\":{},\"showarrow\":false,\"text\":\"type=predictions\",\"textangle\":90,\"x\":0.98,\"xanchor\":\"left\",\"xref\":\"paper\",\"y\":0.7575000000000001,\"yanchor\":\"middle\",\"yref\":\"paper\"}],\"legend\":{\"title\":{\"text\":\"type\"},\"tracegroupgap\":0},\"margin\":{\"t\":60},\"barmode\":\"relative\"},                        {\"responsive\": true}                    ).then(function(){\n",
              "                            \n",
              "var gd = document.getElementById('ba5cfba4-4562-484d-a0f7-891d6a8fbdc9');\n",
              "var x = new MutationObserver(function (mutations, observer) {{\n",
              "        var display = window.getComputedStyle(gd).display;\n",
              "        if (!display || display === 'none') {{\n",
              "            console.log([gd, 'removed!']);\n",
              "            Plotly.purge(gd);\n",
              "            observer.disconnect();\n",
              "        }}\n",
              "}});\n",
              "\n",
              "// Listen for the removal of the full notebook cells\n",
              "var notebookContainer = gd.closest('#notebook-container');\n",
              "if (notebookContainer) {{\n",
              "    x.observe(notebookContainer, {childList: true});\n",
              "}}\n",
              "\n",
              "// Listen for the clearing of the current output cell\n",
              "var outputEl = gd.closest('.output');\n",
              "if (outputEl) {{\n",
              "    x.observe(outputEl, {childList: true});\n",
              "}}\n",
              "\n",
              "                        })                };                            </script>        </div>\n",
              "</body>\n",
              "</html>"
            ]
          },
          "metadata": {}
        }
      ]
    },
    {
      "cell_type": "code",
      "source": [
        "histogram(m,x=\"date\",color=\"type\",nbins=1000)"
      ],
      "metadata": {
        "colab": {
          "base_uri": "https://localhost:8080/",
          "height": 542
        },
        "id": "nsw1YpBpIP2I",
        "outputId": "13b61ed3-cb2f-4220-abb1-23007b502c78"
      },
      "execution_count": null,
      "outputs": [
        {
          "output_type": "display_data",
          "data": {
            "text/html": [
              "<html>\n",
              "<head><meta charset=\"utf-8\" /></head>\n",
              "<body>\n",
              "    <div>            <script src=\"https://cdnjs.cloudflare.com/ajax/libs/mathjax/2.7.5/MathJax.js?config=TeX-AMS-MML_SVG\"></script><script type=\"text/javascript\">if (window.MathJax) {MathJax.Hub.Config({SVG: {font: \"STIX-Web\"}});}</script>                <script type=\"text/javascript\">window.PlotlyConfig = {MathJaxConfig: 'local'};</script>\n",
              "        <script src=\"https://cdn.plot.ly/plotly-2.8.3.min.js\"></script>                <div id=\"93867728-9f32-4d7c-8853-70248ef93e33\" class=\"plotly-graph-div\" style=\"height:525px; width:100%;\"></div>            <script type=\"text/javascript\">                                    window.PLOTLYENV=window.PLOTLYENV || {};                                    if (document.getElementById(\"93867728-9f32-4d7c-8853-70248ef93e33\")) {                    Plotly.newPlot(                        \"93867728-9f32-4d7c-8853-70248ef93e33\",                        [{\"alignmentgroup\":\"True\",\"bingroup\":\"x\",\"hovertemplate\":\"type=predictions<br>date=%{x}<br>count=%{y}<extra></extra>\",\"legendgroup\":\"predictions\",\"marker\":{\"color\":\"#636efa\",\"pattern\":{\"shape\":\"\"}},\"name\":\"predictions\",\"nbinsx\":1000,\"offsetgroup\":\"predictions\",\"orientation\":\"v\",\"showlegend\":true,\"x\":[\"2019-07-03T00:00:00\",\"2019-05-16T00:00:00\",\"2019-05-08T00:00:00\",\"2018-12-14T00:00:00\",\"2019-06-01T00:00:00\",\"2019-06-24T00:00:00\",\"2018-12-31T00:00:00\",\"2019-03-29T00:00:00\",\"2019-04-14T00:00:00\",\"2018-12-20T00:00:00\",\"2019-04-20T00:00:00\",\"2019-03-26T00:00:00\",\"2019-03-03T00:00:00\",\"2019-02-24T00:00:00\",\"2019-01-16T00:00:00\",\"2019-05-22T00:00:00\",\"2019-06-10T00:00:00\",\"2019-01-08T00:00:00\",\"2018-12-05T00:00:00\",\"2019-06-23T00:00:00\",\"2019-05-11T00:00:00\",\"2019-03-30T00:00:00\",\"2019-04-28T00:00:00\",\"2018-12-13T00:00:00\",\"2019-06-18T00:00:00\",\"2019-06-06T00:00:00\",\"2019-03-15T00:00:00\",\"2018-12-27T00:00:00\",\"2019-03-21T00:00:00\",\"2019-03-04T00:00:00\",\"2019-04-27T00:00:00\",\"2019-06-17T00:00:00\",\"2019-04-02T00:00:00\",\"2019-01-11T00:00:00\",\"2019-03-02T00:00:00\",\"2019-02-23T00:00:00\",\"2019-02-25T00:00:00\",\"2019-04-04T00:00:00\",\"2018-12-02T00:00:00\",\"2019-07-04T00:00:00\",\"2019-01-09T00:00:00\",\"2019-05-18T00:00:00\",\"2018-12-04T00:00:00\",\"2019-03-27T00:00:00\",\"2019-07-13T00:00:00\",\"2019-04-21T00:00:00\",\"2019-01-06T00:00:00\",\"2018-12-15T00:00:00\",\"2019-04-15T00:00:00\",\"2019-06-25T00:00:00\",\"2019-07-02T00:00:00\",\"2019-05-17T00:00:00\",\"2019-03-13T00:00:00\",\"2019-05-09T00:00:00\",\"2019-03-28T00:00:00\",\"2019-04-30T00:00:00\",\"2019-06-16T00:00:00\",\"2019-01-10T00:00:00\",\"2019-05-24T00:00:00\",\"2019-03-05T00:00:00\",\"2018-12-03T00:00:00\",\"2018-12-30T00:00:00\",\"2019-06-08T00:00:00\",\"2019-04-03T00:00:00\",\"2019-05-01T00:00:00\",\"2019-04-26T00:00:00\",\"2018-12-26T00:00:00\",\"2019-06-07T00:00:00\",\"2019-06-19T00:00:00\",\"2018-12-12T00:00:00\",\"2018-12-29T00:00:00\",\"2019-07-05T00:00:00\",\"2019-03-14T00:00:00\",\"2019-04-12T00:00:00\",\"2019-01-01T00:00:00\",\"2019-03-31T00:00:00\",\"2019-05-10T00:00:00\",\"2019-04-29T00:00:00\",\"2019-03-06T00:00:00\",\"2019-01-13T00:00:00\",\"2019-06-15T00:00:00\",\"2019-07-09T00:00:00\",\"2019-03-18T00:00:00\",\"2018-12-25T00:00:00\",\"2019-06-30T00:00:00\",\"2019-03-23T00:00:00\",\"2019-05-02T00:00:00\",\"2019-05-28T00:00:00\",\"2019-06-04T00:00:00\",\"2018-12-11T00:00:00\",\"2019-03-09T00:00:00\",\"2019-04-25T00:00:00\",\"2019-03-17T00:00:00\",\"2019-06-21T00:00:00\",\"2019-04-11T00:00:00\",\"2019-05-13T00:00:00\",\"2019-07-06T00:00:00\",\"2019-04-07T00:00:00\",\"2018-12-19T00:00:00\",\"2019-01-14T00:00:00\",\"2018-12-22T00:00:00\",\"2019-06-12T00:00:00\",\"2019-03-01T00:00:00\",\"2019-04-19T00:00:00\",\"2019-05-20T00:00:00\",\"2018-12-07T00:00:00\",\"2019-02-26T00:00:00\",\"2019-06-29T00:00:00\",\"2019-04-22T00:00:00\",\"2019-07-10T00:00:00\",\"2019-03-24T00:00:00\",\"2019-04-08T00:00:00\",\"2019-01-05T00:00:00\",\"2018-12-16T00:00:00\",\"2019-03-10T00:00:00\",\"2019-06-26T00:00:00\",\"2019-06-03T00:00:00\",\"2019-05-14T00:00:00\",\"2018-12-08T00:00:00\",\"2019-07-01T00:00:00\",\"2019-06-20T00:00:00\",\"2018-12-10T00:00:00\",\"2019-07-07T00:00:00\",\"2019-03-08T00:00:00\",\"2019-05-29T00:00:00\",\"2019-01-03T00:00:00\",\"2018-12-24T00:00:00\",\"2019-06-05T00:00:00\",\"2019-04-24T00:00:00\",\"2019-07-16T00:00:00\",\"2019-03-22T00:00:00\",\"2019-07-08T00:00:00\",\"2019-04-10T00:00:00\",\"2019-03-16T00:00:00\",\"2019-05-03T00:00:00\",\"2019-04-01T00:00:00\",\"2019-05-26T00:00:00\",\"2019-05-31T00:00:00\",\"2019-01-12T00:00:00\",\"2019-06-14T00:00:00\",\"2019-03-19T00:00:00\",\"2019-02-28T00:00:00\",\"2018-12-01T00:00:00\",\"2019-06-02T00:00:00\",\"2018-12-17T00:00:00\",\"2019-06-27T00:00:00\",\"2019-05-30T00:00:00\",\"2019-01-04T00:00:00\",\"2019-04-09T00:00:00\",\"2019-03-11T00:00:00\",\"2019-06-28T00:00:00\",\"2018-12-23T00:00:00\",\"2019-03-25T00:00:00\",\"2019-05-21T00:00:00\",\"2019-04-18T00:00:00\",\"2019-02-27T00:00:00\",\"2019-05-04T00:00:00\",\"2019-01-15T00:00:00\",\"2018-12-18T00:00:00\",\"2019-04-06T00:00:00\",\"2019-04-23T00:00:00\",\"2018-12-06T00:00:00\",\"2019-06-13T00:00:00\"],\"xaxis\":\"x\",\"yaxis\":\"y\",\"type\":\"histogram\"},{\"alignmentgroup\":\"True\",\"bingroup\":\"x\",\"hovertemplate\":\"type=protests<br>date=%{x}<br>count=%{y}<extra></extra>\",\"legendgroup\":\"protests\",\"marker\":{\"color\":\"#EF553B\",\"pattern\":{\"shape\":\"\"}},\"name\":\"protests\",\"nbinsx\":1000,\"offsetgroup\":\"protests\",\"orientation\":\"v\",\"showlegend\":true,\"x\":[\"2019-07-12T00:00:00\",\"2019-07-11T00:00:00\",\"2019-07-04T00:00:00\",\"2019-06-28T00:00:00\",\"2019-06-27T00:00:00\",\"2019-06-21T00:00:00\",\"2019-06-19T00:00:00\",\"2019-06-14T00:00:00\",\"2019-06-14T00:00:00\",\"2019-06-04T00:00:00\",\"2019-06-01T00:00:00\",\"2019-05-31T00:00:00\",\"2019-05-30T00:00:00\",\"2019-05-23T00:00:00\",\"2019-05-19T00:00:00\",\"2019-05-18T00:00:00\",\"2019-05-17T00:00:00\",\"2019-05-14T00:00:00\",\"2019-05-13T00:00:00\",\"2019-05-12T00:00:00\",\"2019-05-10T00:00:00\",\"2019-05-03T00:00:00\",\"2019-05-01T00:00:00\",\"2019-04-28T00:00:00\",\"2019-04-26T00:00:00\",\"2019-04-25T00:00:00\",\"2019-04-24T00:00:00\",\"2019-04-20T00:00:00\",\"2019-04-19T00:00:00\",\"2019-04-18T00:00:00\",\"2019-04-13T00:00:00\",\"2019-04-12T00:00:00\",\"2019-04-05T00:00:00\",\"2019-04-05T00:00:00\",\"2019-03-29T00:00:00\",\"2019-03-28T00:00:00\",\"2019-03-28T00:00:00\",\"2019-03-23T00:00:00\",\"2019-03-22T00:00:00\",\"2019-03-16T00:00:00\",\"2019-03-15T00:00:00\",\"2019-03-14T00:00:00\",\"2019-03-01T00:00:00\",\"2019-02-28T00:00:00\",\"2019-02-27T00:00:00\",\"2019-02-22T00:00:00\",\"2019-02-21T00:00:00\",\"2019-02-17T00:00:00\",\"2019-02-15T00:00:00\",\"2019-02-14T00:00:00\",\"2019-02-14T00:00:00\",\"2019-02-13T00:00:00\"],\"xaxis\":\"x\",\"yaxis\":\"y\",\"type\":\"histogram\"}],                        {\"template\":{\"data\":{\"bar\":[{\"error_x\":{\"color\":\"#2a3f5f\"},\"error_y\":{\"color\":\"#2a3f5f\"},\"marker\":{\"line\":{\"color\":\"#E5ECF6\",\"width\":0.5},\"pattern\":{\"fillmode\":\"overlay\",\"size\":10,\"solidity\":0.2}},\"type\":\"bar\"}],\"barpolar\":[{\"marker\":{\"line\":{\"color\":\"#E5ECF6\",\"width\":0.5},\"pattern\":{\"fillmode\":\"overlay\",\"size\":10,\"solidity\":0.2}},\"type\":\"barpolar\"}],\"carpet\":[{\"aaxis\":{\"endlinecolor\":\"#2a3f5f\",\"gridcolor\":\"white\",\"linecolor\":\"white\",\"minorgridcolor\":\"white\",\"startlinecolor\":\"#2a3f5f\"},\"baxis\":{\"endlinecolor\":\"#2a3f5f\",\"gridcolor\":\"white\",\"linecolor\":\"white\",\"minorgridcolor\":\"white\",\"startlinecolor\":\"#2a3f5f\"},\"type\":\"carpet\"}],\"choropleth\":[{\"colorbar\":{\"outlinewidth\":0,\"ticks\":\"\"},\"type\":\"choropleth\"}],\"contour\":[{\"colorbar\":{\"outlinewidth\":0,\"ticks\":\"\"},\"colorscale\":[[0.0,\"#0d0887\"],[0.1111111111111111,\"#46039f\"],[0.2222222222222222,\"#7201a8\"],[0.3333333333333333,\"#9c179e\"],[0.4444444444444444,\"#bd3786\"],[0.5555555555555556,\"#d8576b\"],[0.6666666666666666,\"#ed7953\"],[0.7777777777777778,\"#fb9f3a\"],[0.8888888888888888,\"#fdca26\"],[1.0,\"#f0f921\"]],\"type\":\"contour\"}],\"contourcarpet\":[{\"colorbar\":{\"outlinewidth\":0,\"ticks\":\"\"},\"type\":\"contourcarpet\"}],\"heatmap\":[{\"colorbar\":{\"outlinewidth\":0,\"ticks\":\"\"},\"colorscale\":[[0.0,\"#0d0887\"],[0.1111111111111111,\"#46039f\"],[0.2222222222222222,\"#7201a8\"],[0.3333333333333333,\"#9c179e\"],[0.4444444444444444,\"#bd3786\"],[0.5555555555555556,\"#d8576b\"],[0.6666666666666666,\"#ed7953\"],[0.7777777777777778,\"#fb9f3a\"],[0.8888888888888888,\"#fdca26\"],[1.0,\"#f0f921\"]],\"type\":\"heatmap\"}],\"heatmapgl\":[{\"colorbar\":{\"outlinewidth\":0,\"ticks\":\"\"},\"colorscale\":[[0.0,\"#0d0887\"],[0.1111111111111111,\"#46039f\"],[0.2222222222222222,\"#7201a8\"],[0.3333333333333333,\"#9c179e\"],[0.4444444444444444,\"#bd3786\"],[0.5555555555555556,\"#d8576b\"],[0.6666666666666666,\"#ed7953\"],[0.7777777777777778,\"#fb9f3a\"],[0.8888888888888888,\"#fdca26\"],[1.0,\"#f0f921\"]],\"type\":\"heatmapgl\"}],\"histogram\":[{\"marker\":{\"pattern\":{\"fillmode\":\"overlay\",\"size\":10,\"solidity\":0.2}},\"type\":\"histogram\"}],\"histogram2d\":[{\"colorbar\":{\"outlinewidth\":0,\"ticks\":\"\"},\"colorscale\":[[0.0,\"#0d0887\"],[0.1111111111111111,\"#46039f\"],[0.2222222222222222,\"#7201a8\"],[0.3333333333333333,\"#9c179e\"],[0.4444444444444444,\"#bd3786\"],[0.5555555555555556,\"#d8576b\"],[0.6666666666666666,\"#ed7953\"],[0.7777777777777778,\"#fb9f3a\"],[0.8888888888888888,\"#fdca26\"],[1.0,\"#f0f921\"]],\"type\":\"histogram2d\"}],\"histogram2dcontour\":[{\"colorbar\":{\"outlinewidth\":0,\"ticks\":\"\"},\"colorscale\":[[0.0,\"#0d0887\"],[0.1111111111111111,\"#46039f\"],[0.2222222222222222,\"#7201a8\"],[0.3333333333333333,\"#9c179e\"],[0.4444444444444444,\"#bd3786\"],[0.5555555555555556,\"#d8576b\"],[0.6666666666666666,\"#ed7953\"],[0.7777777777777778,\"#fb9f3a\"],[0.8888888888888888,\"#fdca26\"],[1.0,\"#f0f921\"]],\"type\":\"histogram2dcontour\"}],\"mesh3d\":[{\"colorbar\":{\"outlinewidth\":0,\"ticks\":\"\"},\"type\":\"mesh3d\"}],\"parcoords\":[{\"line\":{\"colorbar\":{\"outlinewidth\":0,\"ticks\":\"\"}},\"type\":\"parcoords\"}],\"pie\":[{\"automargin\":true,\"type\":\"pie\"}],\"scatter\":[{\"marker\":{\"colorbar\":{\"outlinewidth\":0,\"ticks\":\"\"}},\"type\":\"scatter\"}],\"scatter3d\":[{\"line\":{\"colorbar\":{\"outlinewidth\":0,\"ticks\":\"\"}},\"marker\":{\"colorbar\":{\"outlinewidth\":0,\"ticks\":\"\"}},\"type\":\"scatter3d\"}],\"scattercarpet\":[{\"marker\":{\"colorbar\":{\"outlinewidth\":0,\"ticks\":\"\"}},\"type\":\"scattercarpet\"}],\"scattergeo\":[{\"marker\":{\"colorbar\":{\"outlinewidth\":0,\"ticks\":\"\"}},\"type\":\"scattergeo\"}],\"scattergl\":[{\"marker\":{\"colorbar\":{\"outlinewidth\":0,\"ticks\":\"\"}},\"type\":\"scattergl\"}],\"scattermapbox\":[{\"marker\":{\"colorbar\":{\"outlinewidth\":0,\"ticks\":\"\"}},\"type\":\"scattermapbox\"}],\"scatterpolar\":[{\"marker\":{\"colorbar\":{\"outlinewidth\":0,\"ticks\":\"\"}},\"type\":\"scatterpolar\"}],\"scatterpolargl\":[{\"marker\":{\"colorbar\":{\"outlinewidth\":0,\"ticks\":\"\"}},\"type\":\"scatterpolargl\"}],\"scatterternary\":[{\"marker\":{\"colorbar\":{\"outlinewidth\":0,\"ticks\":\"\"}},\"type\":\"scatterternary\"}],\"surface\":[{\"colorbar\":{\"outlinewidth\":0,\"ticks\":\"\"},\"colorscale\":[[0.0,\"#0d0887\"],[0.1111111111111111,\"#46039f\"],[0.2222222222222222,\"#7201a8\"],[0.3333333333333333,\"#9c179e\"],[0.4444444444444444,\"#bd3786\"],[0.5555555555555556,\"#d8576b\"],[0.6666666666666666,\"#ed7953\"],[0.7777777777777778,\"#fb9f3a\"],[0.8888888888888888,\"#fdca26\"],[1.0,\"#f0f921\"]],\"type\":\"surface\"}],\"table\":[{\"cells\":{\"fill\":{\"color\":\"#EBF0F8\"},\"line\":{\"color\":\"white\"}},\"header\":{\"fill\":{\"color\":\"#C8D4E3\"},\"line\":{\"color\":\"white\"}},\"type\":\"table\"}]},\"layout\":{\"annotationdefaults\":{\"arrowcolor\":\"#2a3f5f\",\"arrowhead\":0,\"arrowwidth\":1},\"autotypenumbers\":\"strict\",\"coloraxis\":{\"colorbar\":{\"outlinewidth\":0,\"ticks\":\"\"}},\"colorscale\":{\"diverging\":[[0,\"#8e0152\"],[0.1,\"#c51b7d\"],[0.2,\"#de77ae\"],[0.3,\"#f1b6da\"],[0.4,\"#fde0ef\"],[0.5,\"#f7f7f7\"],[0.6,\"#e6f5d0\"],[0.7,\"#b8e186\"],[0.8,\"#7fbc41\"],[0.9,\"#4d9221\"],[1,\"#276419\"]],\"sequential\":[[0.0,\"#0d0887\"],[0.1111111111111111,\"#46039f\"],[0.2222222222222222,\"#7201a8\"],[0.3333333333333333,\"#9c179e\"],[0.4444444444444444,\"#bd3786\"],[0.5555555555555556,\"#d8576b\"],[0.6666666666666666,\"#ed7953\"],[0.7777777777777778,\"#fb9f3a\"],[0.8888888888888888,\"#fdca26\"],[1.0,\"#f0f921\"]],\"sequentialminus\":[[0.0,\"#0d0887\"],[0.1111111111111111,\"#46039f\"],[0.2222222222222222,\"#7201a8\"],[0.3333333333333333,\"#9c179e\"],[0.4444444444444444,\"#bd3786\"],[0.5555555555555556,\"#d8576b\"],[0.6666666666666666,\"#ed7953\"],[0.7777777777777778,\"#fb9f3a\"],[0.8888888888888888,\"#fdca26\"],[1.0,\"#f0f921\"]]},\"colorway\":[\"#636efa\",\"#EF553B\",\"#00cc96\",\"#ab63fa\",\"#FFA15A\",\"#19d3f3\",\"#FF6692\",\"#B6E880\",\"#FF97FF\",\"#FECB52\"],\"font\":{\"color\":\"#2a3f5f\"},\"geo\":{\"bgcolor\":\"white\",\"lakecolor\":\"white\",\"landcolor\":\"#E5ECF6\",\"showlakes\":true,\"showland\":true,\"subunitcolor\":\"white\"},\"hoverlabel\":{\"align\":\"left\"},\"hovermode\":\"closest\",\"mapbox\":{\"style\":\"light\"},\"paper_bgcolor\":\"white\",\"plot_bgcolor\":\"#E5ECF6\",\"polar\":{\"angularaxis\":{\"gridcolor\":\"white\",\"linecolor\":\"white\",\"ticks\":\"\"},\"bgcolor\":\"#E5ECF6\",\"radialaxis\":{\"gridcolor\":\"white\",\"linecolor\":\"white\",\"ticks\":\"\"}},\"scene\":{\"xaxis\":{\"backgroundcolor\":\"#E5ECF6\",\"gridcolor\":\"white\",\"gridwidth\":2,\"linecolor\":\"white\",\"showbackground\":true,\"ticks\":\"\",\"zerolinecolor\":\"white\"},\"yaxis\":{\"backgroundcolor\":\"#E5ECF6\",\"gridcolor\":\"white\",\"gridwidth\":2,\"linecolor\":\"white\",\"showbackground\":true,\"ticks\":\"\",\"zerolinecolor\":\"white\"},\"zaxis\":{\"backgroundcolor\":\"#E5ECF6\",\"gridcolor\":\"white\",\"gridwidth\":2,\"linecolor\":\"white\",\"showbackground\":true,\"ticks\":\"\",\"zerolinecolor\":\"white\"}},\"shapedefaults\":{\"line\":{\"color\":\"#2a3f5f\"}},\"ternary\":{\"aaxis\":{\"gridcolor\":\"white\",\"linecolor\":\"white\",\"ticks\":\"\"},\"baxis\":{\"gridcolor\":\"white\",\"linecolor\":\"white\",\"ticks\":\"\"},\"bgcolor\":\"#E5ECF6\",\"caxis\":{\"gridcolor\":\"white\",\"linecolor\":\"white\",\"ticks\":\"\"}},\"title\":{\"x\":0.05},\"xaxis\":{\"automargin\":true,\"gridcolor\":\"white\",\"linecolor\":\"white\",\"ticks\":\"\",\"title\":{\"standoff\":15},\"zerolinecolor\":\"white\",\"zerolinewidth\":2},\"yaxis\":{\"automargin\":true,\"gridcolor\":\"white\",\"linecolor\":\"white\",\"ticks\":\"\",\"title\":{\"standoff\":15},\"zerolinecolor\":\"white\",\"zerolinewidth\":2}}},\"xaxis\":{\"anchor\":\"y\",\"domain\":[0.0,1.0],\"title\":{\"text\":\"date\"}},\"yaxis\":{\"anchor\":\"x\",\"domain\":[0.0,1.0],\"title\":{\"text\":\"count\"}},\"legend\":{\"title\":{\"text\":\"type\"},\"tracegroupgap\":0},\"margin\":{\"t\":60},\"barmode\":\"relative\"},                        {\"responsive\": true}                    ).then(function(){\n",
              "                            \n",
              "var gd = document.getElementById('93867728-9f32-4d7c-8853-70248ef93e33');\n",
              "var x = new MutationObserver(function (mutations, observer) {{\n",
              "        var display = window.getComputedStyle(gd).display;\n",
              "        if (!display || display === 'none') {{\n",
              "            console.log([gd, 'removed!']);\n",
              "            Plotly.purge(gd);\n",
              "            observer.disconnect();\n",
              "        }}\n",
              "}});\n",
              "\n",
              "// Listen for the removal of the full notebook cells\n",
              "var notebookContainer = gd.closest('#notebook-container');\n",
              "if (notebookContainer) {{\n",
              "    x.observe(notebookContainer, {childList: true});\n",
              "}}\n",
              "\n",
              "// Listen for the clearing of the current output cell\n",
              "var outputEl = gd.closest('.output');\n",
              "if (outputEl) {{\n",
              "    x.observe(outputEl, {childList: true});\n",
              "}}\n",
              "\n",
              "                        })                };                            </script>        </div>\n",
              "</body>\n",
              "</html>"
            ]
          },
          "metadata": {}
        }
      ]
    },
    {
      "cell_type": "markdown",
      "source": [
        "Address with least predictions vs nearest protest place"
      ],
      "metadata": {
        "id": "GKDU6YyfnXgY"
      }
    },
    {
      "cell_type": "code",
      "source": [
        "b_big[\"count\"]==b_big[\"count\"]\n",
        "least_pred = b_big[b_big[\"count\"]==b_big[\"count\"].min()]\n",
        "least_pred"
      ],
      "metadata": {
        "colab": {
          "base_uri": "https://localhost:8080/",
          "height": 80
        },
        "id": "OBJmYQqSd_xX",
        "outputId": "862478af-2e8f-4955-ded3-07680e7c30f8"
      },
      "execution_count": null,
      "outputs": [
        {
          "output_type": "execute_result",
          "data": {
            "text/html": [
              "\n",
              "  <div id=\"df-5760fec6-34dc-4646-b2bb-116dc95dbf7a\">\n",
              "    <div class=\"colab-df-container\">\n",
              "      <div>\n",
              "<style scoped>\n",
              "    .dataframe tbody tr th:only-of-type {\n",
              "        vertical-align: middle;\n",
              "    }\n",
              "\n",
              "    .dataframe tbody tr th {\n",
              "        vertical-align: top;\n",
              "    }\n",
              "\n",
              "    .dataframe thead th {\n",
              "        text-align: right;\n",
              "    }\n",
              "</style>\n",
              "<table border=\"1\" class=\"dataframe\">\n",
              "  <thead>\n",
              "    <tr style=\"text-align: right;\">\n",
              "      <th></th>\n",
              "      <th>lat</th>\n",
              "      <th>lon</th>\n",
              "      <th>address</th>\n",
              "      <th>count</th>\n",
              "    </tr>\n",
              "  </thead>\n",
              "  <tbody>\n",
              "    <tr>\n",
              "      <th>8</th>\n",
              "      <td>26.1941</td>\n",
              "      <td>50.4823</td>\n",
              "      <td>مسجد الوطية، Rd No 2308</td>\n",
              "      <td>47</td>\n",
              "    </tr>\n",
              "  </tbody>\n",
              "</table>\n",
              "</div>\n",
              "      <button class=\"colab-df-convert\" onclick=\"convertToInteractive('df-5760fec6-34dc-4646-b2bb-116dc95dbf7a')\"\n",
              "              title=\"Convert this dataframe to an interactive table.\"\n",
              "              style=\"display:none;\">\n",
              "        \n",
              "  <svg xmlns=\"http://www.w3.org/2000/svg\" height=\"24px\"viewBox=\"0 0 24 24\"\n",
              "       width=\"24px\">\n",
              "    <path d=\"M0 0h24v24H0V0z\" fill=\"none\"/>\n",
              "    <path d=\"M18.56 5.44l.94 2.06.94-2.06 2.06-.94-2.06-.94-.94-2.06-.94 2.06-2.06.94zm-11 1L8.5 8.5l.94-2.06 2.06-.94-2.06-.94L8.5 2.5l-.94 2.06-2.06.94zm10 10l.94 2.06.94-2.06 2.06-.94-2.06-.94-.94-2.06-.94 2.06-2.06.94z\"/><path d=\"M17.41 7.96l-1.37-1.37c-.4-.4-.92-.59-1.43-.59-.52 0-1.04.2-1.43.59L10.3 9.45l-7.72 7.72c-.78.78-.78 2.05 0 2.83L4 21.41c.39.39.9.59 1.41.59.51 0 1.02-.2 1.41-.59l7.78-7.78 2.81-2.81c.8-.78.8-2.07 0-2.86zM5.41 20L4 18.59l7.72-7.72 1.47 1.35L5.41 20z\"/>\n",
              "  </svg>\n",
              "      </button>\n",
              "      \n",
              "  <style>\n",
              "    .colab-df-container {\n",
              "      display:flex;\n",
              "      flex-wrap:wrap;\n",
              "      gap: 12px;\n",
              "    }\n",
              "\n",
              "    .colab-df-convert {\n",
              "      background-color: #E8F0FE;\n",
              "      border: none;\n",
              "      border-radius: 50%;\n",
              "      cursor: pointer;\n",
              "      display: none;\n",
              "      fill: #1967D2;\n",
              "      height: 32px;\n",
              "      padding: 0 0 0 0;\n",
              "      width: 32px;\n",
              "    }\n",
              "\n",
              "    .colab-df-convert:hover {\n",
              "      background-color: #E2EBFA;\n",
              "      box-shadow: 0px 1px 2px rgba(60, 64, 67, 0.3), 0px 1px 3px 1px rgba(60, 64, 67, 0.15);\n",
              "      fill: #174EA6;\n",
              "    }\n",
              "\n",
              "    [theme=dark] .colab-df-convert {\n",
              "      background-color: #3B4455;\n",
              "      fill: #D2E3FC;\n",
              "    }\n",
              "\n",
              "    [theme=dark] .colab-df-convert:hover {\n",
              "      background-color: #434B5C;\n",
              "      box-shadow: 0px 1px 3px 1px rgba(0, 0, 0, 0.15);\n",
              "      filter: drop-shadow(0px 1px 2px rgba(0, 0, 0, 0.3));\n",
              "      fill: #FFFFFF;\n",
              "    }\n",
              "  </style>\n",
              "\n",
              "      <script>\n",
              "        const buttonEl =\n",
              "          document.querySelector('#df-5760fec6-34dc-4646-b2bb-116dc95dbf7a button.colab-df-convert');\n",
              "        buttonEl.style.display =\n",
              "          google.colab.kernel.accessAllowed ? 'block' : 'none';\n",
              "\n",
              "        async function convertToInteractive(key) {\n",
              "          const element = document.querySelector('#df-5760fec6-34dc-4646-b2bb-116dc95dbf7a');\n",
              "          const dataTable =\n",
              "            await google.colab.kernel.invokeFunction('convertToInteractive',\n",
              "                                                     [key], {});\n",
              "          if (!dataTable) return;\n",
              "\n",
              "          const docLinkHtml = 'Like what you see? Visit the ' +\n",
              "            '<a target=\"_blank\" href=https://colab.research.google.com/notebooks/data_table.ipynb>data table notebook</a>'\n",
              "            + ' to learn more about interactive tables.';\n",
              "          element.innerHTML = '';\n",
              "          dataTable['output_type'] = 'display_data';\n",
              "          await google.colab.output.renderOutput(dataTable, element);\n",
              "          const docLink = document.createElement('div');\n",
              "          docLink.innerHTML = docLinkHtml;\n",
              "          element.appendChild(docLink);\n",
              "        }\n",
              "      </script>\n",
              "    </div>\n",
              "  </div>\n",
              "  "
            ],
            "text/plain": [
              "       lat      lon                  address  count\n",
              "8  26.1941  50.4823  مسجد الوطية، Rd No 2308     47"
            ]
          },
          "metadata": {},
          "execution_count": 79
        }
      ]
    },
    {
      "cell_type": "code",
      "source": [
        "pred_time_2 = pandas.to_datetime(b[(b[\"lat\"]==\t26.1941) & (b[\"lon\"]==50.4823)][\"date\"])\n",
        "pred_2 = pandas.DataFrame({\"date\":pred_time_2,\n",
        "                        \"type\":\"predictions\"})\n",
        "prot_time_2 = pandas.to_datetime(protests[(protests[\"latitude\"]==26.1942)& (protests[\"longitude\"]==50.4819)& (protests[\"event_date\"]<=max(pred_2[\"date\"]))][\"event_date\"])\n",
        "prot_2 = pandas.DataFrame({\"date\":prot_time_2,\n",
        "                        \"type\":\"protests\"})\n",
        "\n",
        "m_2 = merge(pred_2,prot_2,on=[\"type\",\"date\"],how=\"outer\")"
      ],
      "metadata": {
        "id": "vPWoPtRRMP6q"
      },
      "execution_count": null,
      "outputs": []
    },
    {
      "cell_type": "code",
      "source": [
        "#histogram(m_2,x=\"date\", facet_row=\"type\",nbins=1000,color=\"type\")"
      ],
      "metadata": {
        "id": "4XePaodyMU2U"
      },
      "execution_count": null,
      "outputs": []
    },
    {
      "cell_type": "code",
      "source": [
        "histogram(m_2,x=\"date\",color=\"type\",nbins=1000)"
      ],
      "metadata": {
        "colab": {
          "base_uri": "https://localhost:8080/",
          "height": 542
        },
        "id": "03LMi5tqMWK2",
        "outputId": "087e0fd4-33a3-43b6-ac36-fde64ac3509e"
      },
      "execution_count": null,
      "outputs": [
        {
          "output_type": "display_data",
          "data": {
            "text/html": [
              "<html>\n",
              "<head><meta charset=\"utf-8\" /></head>\n",
              "<body>\n",
              "    <div>            <script src=\"https://cdnjs.cloudflare.com/ajax/libs/mathjax/2.7.5/MathJax.js?config=TeX-AMS-MML_SVG\"></script><script type=\"text/javascript\">if (window.MathJax) {MathJax.Hub.Config({SVG: {font: \"STIX-Web\"}});}</script>                <script type=\"text/javascript\">window.PlotlyConfig = {MathJaxConfig: 'local'};</script>\n",
              "        <script src=\"https://cdn.plot.ly/plotly-2.8.3.min.js\"></script>                <div id=\"0b77b9c6-d149-47f8-b51e-ba3c13366e53\" class=\"plotly-graph-div\" style=\"height:525px; width:100%;\"></div>            <script type=\"text/javascript\">                                    window.PLOTLYENV=window.PLOTLYENV || {};                                    if (document.getElementById(\"0b77b9c6-d149-47f8-b51e-ba3c13366e53\")) {                    Plotly.newPlot(                        \"0b77b9c6-d149-47f8-b51e-ba3c13366e53\",                        [{\"alignmentgroup\":\"True\",\"bingroup\":\"x\",\"hovertemplate\":\"type=predictions<br>date=%{x}<br>count=%{y}<extra></extra>\",\"legendgroup\":\"predictions\",\"marker\":{\"color\":\"#636efa\",\"pattern\":{\"shape\":\"\"}},\"name\":\"predictions\",\"nbinsx\":1000,\"offsetgroup\":\"predictions\",\"orientation\":\"v\",\"showlegend\":true,\"x\":[\"2018-12-14T00:00:00\",\"2018-12-31T00:00:00\",\"2019-03-29T00:00:00\",\"2019-03-26T00:00:00\",\"2019-04-05T00:00:00\",\"2019-05-22T00:00:00\",\"2018-12-05T00:00:00\",\"2019-03-21T00:00:00\",\"2019-07-15T00:00:00\",\"2019-03-02T00:00:00\",\"2019-06-09T00:00:00\",\"2019-02-25T00:00:00\",\"2019-04-04T00:00:00\",\"2019-07-04T00:00:00\",\"2019-05-18T00:00:00\",\"2019-04-21T00:00:00\",\"2019-01-06T00:00:00\",\"2019-05-06T00:00:00\",\"2019-03-13T00:00:00\",\"2019-03-28T00:00:00\",\"2019-05-24T00:00:00\",\"2018-12-03T00:00:00\",\"2019-04-03T00:00:00\",\"2019-07-14T00:00:00\",\"2019-05-01T00:00:00\",\"2019-06-07T00:00:00\",\"2019-03-06T00:00:00\",\"2019-05-02T00:00:00\",\"2019-06-04T00:00:00\",\"2019-01-02T00:00:00\",\"2019-03-17T00:00:00\",\"2019-04-11T00:00:00\",\"2018-12-07T00:00:00\",\"2019-04-08T00:00:00\",\"2019-03-10T00:00:00\",\"2019-06-03T00:00:00\",\"2019-04-16T00:00:00\",\"2019-01-03T00:00:00\",\"2019-06-05T00:00:00\",\"2019-07-08T00:00:00\",\"2019-04-10T00:00:00\",\"2019-03-16T00:00:00\",\"2019-06-27T00:00:00\",\"2019-03-25T00:00:00\",\"2019-07-11T00:00:00\",\"2019-05-04T00:00:00\",\"2019-06-13T00:00:00\"],\"xaxis\":\"x\",\"yaxis\":\"y\",\"type\":\"histogram\"},{\"alignmentgroup\":\"True\",\"bingroup\":\"x\",\"hovertemplate\":\"type=protests<br>date=%{x}<br>count=%{y}<extra></extra>\",\"legendgroup\":\"protests\",\"marker\":{\"color\":\"#EF553B\",\"pattern\":{\"shape\":\"\"}},\"name\":\"protests\",\"nbinsx\":1000,\"offsetgroup\":\"protests\",\"orientation\":\"v\",\"showlegend\":true,\"x\":[\"2019-06-25T00:00:00\",\"2019-06-05T00:00:00\",\"2019-05-31T00:00:00\",\"2019-05-30T00:00:00\",\"2019-05-24T00:00:00\",\"2019-05-17T00:00:00\",\"2019-05-10T00:00:00\",\"2019-04-26T00:00:00\",\"2019-04-05T00:00:00\",\"2019-03-13T00:00:00\",\"2019-02-24T00:00:00\"],\"xaxis\":\"x\",\"yaxis\":\"y\",\"type\":\"histogram\"}],                        {\"template\":{\"data\":{\"bar\":[{\"error_x\":{\"color\":\"#2a3f5f\"},\"error_y\":{\"color\":\"#2a3f5f\"},\"marker\":{\"line\":{\"color\":\"#E5ECF6\",\"width\":0.5},\"pattern\":{\"fillmode\":\"overlay\",\"size\":10,\"solidity\":0.2}},\"type\":\"bar\"}],\"barpolar\":[{\"marker\":{\"line\":{\"color\":\"#E5ECF6\",\"width\":0.5},\"pattern\":{\"fillmode\":\"overlay\",\"size\":10,\"solidity\":0.2}},\"type\":\"barpolar\"}],\"carpet\":[{\"aaxis\":{\"endlinecolor\":\"#2a3f5f\",\"gridcolor\":\"white\",\"linecolor\":\"white\",\"minorgridcolor\":\"white\",\"startlinecolor\":\"#2a3f5f\"},\"baxis\":{\"endlinecolor\":\"#2a3f5f\",\"gridcolor\":\"white\",\"linecolor\":\"white\",\"minorgridcolor\":\"white\",\"startlinecolor\":\"#2a3f5f\"},\"type\":\"carpet\"}],\"choropleth\":[{\"colorbar\":{\"outlinewidth\":0,\"ticks\":\"\"},\"type\":\"choropleth\"}],\"contour\":[{\"colorbar\":{\"outlinewidth\":0,\"ticks\":\"\"},\"colorscale\":[[0.0,\"#0d0887\"],[0.1111111111111111,\"#46039f\"],[0.2222222222222222,\"#7201a8\"],[0.3333333333333333,\"#9c179e\"],[0.4444444444444444,\"#bd3786\"],[0.5555555555555556,\"#d8576b\"],[0.6666666666666666,\"#ed7953\"],[0.7777777777777778,\"#fb9f3a\"],[0.8888888888888888,\"#fdca26\"],[1.0,\"#f0f921\"]],\"type\":\"contour\"}],\"contourcarpet\":[{\"colorbar\":{\"outlinewidth\":0,\"ticks\":\"\"},\"type\":\"contourcarpet\"}],\"heatmap\":[{\"colorbar\":{\"outlinewidth\":0,\"ticks\":\"\"},\"colorscale\":[[0.0,\"#0d0887\"],[0.1111111111111111,\"#46039f\"],[0.2222222222222222,\"#7201a8\"],[0.3333333333333333,\"#9c179e\"],[0.4444444444444444,\"#bd3786\"],[0.5555555555555556,\"#d8576b\"],[0.6666666666666666,\"#ed7953\"],[0.7777777777777778,\"#fb9f3a\"],[0.8888888888888888,\"#fdca26\"],[1.0,\"#f0f921\"]],\"type\":\"heatmap\"}],\"heatmapgl\":[{\"colorbar\":{\"outlinewidth\":0,\"ticks\":\"\"},\"colorscale\":[[0.0,\"#0d0887\"],[0.1111111111111111,\"#46039f\"],[0.2222222222222222,\"#7201a8\"],[0.3333333333333333,\"#9c179e\"],[0.4444444444444444,\"#bd3786\"],[0.5555555555555556,\"#d8576b\"],[0.6666666666666666,\"#ed7953\"],[0.7777777777777778,\"#fb9f3a\"],[0.8888888888888888,\"#fdca26\"],[1.0,\"#f0f921\"]],\"type\":\"heatmapgl\"}],\"histogram\":[{\"marker\":{\"pattern\":{\"fillmode\":\"overlay\",\"size\":10,\"solidity\":0.2}},\"type\":\"histogram\"}],\"histogram2d\":[{\"colorbar\":{\"outlinewidth\":0,\"ticks\":\"\"},\"colorscale\":[[0.0,\"#0d0887\"],[0.1111111111111111,\"#46039f\"],[0.2222222222222222,\"#7201a8\"],[0.3333333333333333,\"#9c179e\"],[0.4444444444444444,\"#bd3786\"],[0.5555555555555556,\"#d8576b\"],[0.6666666666666666,\"#ed7953\"],[0.7777777777777778,\"#fb9f3a\"],[0.8888888888888888,\"#fdca26\"],[1.0,\"#f0f921\"]],\"type\":\"histogram2d\"}],\"histogram2dcontour\":[{\"colorbar\":{\"outlinewidth\":0,\"ticks\":\"\"},\"colorscale\":[[0.0,\"#0d0887\"],[0.1111111111111111,\"#46039f\"],[0.2222222222222222,\"#7201a8\"],[0.3333333333333333,\"#9c179e\"],[0.4444444444444444,\"#bd3786\"],[0.5555555555555556,\"#d8576b\"],[0.6666666666666666,\"#ed7953\"],[0.7777777777777778,\"#fb9f3a\"],[0.8888888888888888,\"#fdca26\"],[1.0,\"#f0f921\"]],\"type\":\"histogram2dcontour\"}],\"mesh3d\":[{\"colorbar\":{\"outlinewidth\":0,\"ticks\":\"\"},\"type\":\"mesh3d\"}],\"parcoords\":[{\"line\":{\"colorbar\":{\"outlinewidth\":0,\"ticks\":\"\"}},\"type\":\"parcoords\"}],\"pie\":[{\"automargin\":true,\"type\":\"pie\"}],\"scatter\":[{\"marker\":{\"colorbar\":{\"outlinewidth\":0,\"ticks\":\"\"}},\"type\":\"scatter\"}],\"scatter3d\":[{\"line\":{\"colorbar\":{\"outlinewidth\":0,\"ticks\":\"\"}},\"marker\":{\"colorbar\":{\"outlinewidth\":0,\"ticks\":\"\"}},\"type\":\"scatter3d\"}],\"scattercarpet\":[{\"marker\":{\"colorbar\":{\"outlinewidth\":0,\"ticks\":\"\"}},\"type\":\"scattercarpet\"}],\"scattergeo\":[{\"marker\":{\"colorbar\":{\"outlinewidth\":0,\"ticks\":\"\"}},\"type\":\"scattergeo\"}],\"scattergl\":[{\"marker\":{\"colorbar\":{\"outlinewidth\":0,\"ticks\":\"\"}},\"type\":\"scattergl\"}],\"scattermapbox\":[{\"marker\":{\"colorbar\":{\"outlinewidth\":0,\"ticks\":\"\"}},\"type\":\"scattermapbox\"}],\"scatterpolar\":[{\"marker\":{\"colorbar\":{\"outlinewidth\":0,\"ticks\":\"\"}},\"type\":\"scatterpolar\"}],\"scatterpolargl\":[{\"marker\":{\"colorbar\":{\"outlinewidth\":0,\"ticks\":\"\"}},\"type\":\"scatterpolargl\"}],\"scatterternary\":[{\"marker\":{\"colorbar\":{\"outlinewidth\":0,\"ticks\":\"\"}},\"type\":\"scatterternary\"}],\"surface\":[{\"colorbar\":{\"outlinewidth\":0,\"ticks\":\"\"},\"colorscale\":[[0.0,\"#0d0887\"],[0.1111111111111111,\"#46039f\"],[0.2222222222222222,\"#7201a8\"],[0.3333333333333333,\"#9c179e\"],[0.4444444444444444,\"#bd3786\"],[0.5555555555555556,\"#d8576b\"],[0.6666666666666666,\"#ed7953\"],[0.7777777777777778,\"#fb9f3a\"],[0.8888888888888888,\"#fdca26\"],[1.0,\"#f0f921\"]],\"type\":\"surface\"}],\"table\":[{\"cells\":{\"fill\":{\"color\":\"#EBF0F8\"},\"line\":{\"color\":\"white\"}},\"header\":{\"fill\":{\"color\":\"#C8D4E3\"},\"line\":{\"color\":\"white\"}},\"type\":\"table\"}]},\"layout\":{\"annotationdefaults\":{\"arrowcolor\":\"#2a3f5f\",\"arrowhead\":0,\"arrowwidth\":1},\"autotypenumbers\":\"strict\",\"coloraxis\":{\"colorbar\":{\"outlinewidth\":0,\"ticks\":\"\"}},\"colorscale\":{\"diverging\":[[0,\"#8e0152\"],[0.1,\"#c51b7d\"],[0.2,\"#de77ae\"],[0.3,\"#f1b6da\"],[0.4,\"#fde0ef\"],[0.5,\"#f7f7f7\"],[0.6,\"#e6f5d0\"],[0.7,\"#b8e186\"],[0.8,\"#7fbc41\"],[0.9,\"#4d9221\"],[1,\"#276419\"]],\"sequential\":[[0.0,\"#0d0887\"],[0.1111111111111111,\"#46039f\"],[0.2222222222222222,\"#7201a8\"],[0.3333333333333333,\"#9c179e\"],[0.4444444444444444,\"#bd3786\"],[0.5555555555555556,\"#d8576b\"],[0.6666666666666666,\"#ed7953\"],[0.7777777777777778,\"#fb9f3a\"],[0.8888888888888888,\"#fdca26\"],[1.0,\"#f0f921\"]],\"sequentialminus\":[[0.0,\"#0d0887\"],[0.1111111111111111,\"#46039f\"],[0.2222222222222222,\"#7201a8\"],[0.3333333333333333,\"#9c179e\"],[0.4444444444444444,\"#bd3786\"],[0.5555555555555556,\"#d8576b\"],[0.6666666666666666,\"#ed7953\"],[0.7777777777777778,\"#fb9f3a\"],[0.8888888888888888,\"#fdca26\"],[1.0,\"#f0f921\"]]},\"colorway\":[\"#636efa\",\"#EF553B\",\"#00cc96\",\"#ab63fa\",\"#FFA15A\",\"#19d3f3\",\"#FF6692\",\"#B6E880\",\"#FF97FF\",\"#FECB52\"],\"font\":{\"color\":\"#2a3f5f\"},\"geo\":{\"bgcolor\":\"white\",\"lakecolor\":\"white\",\"landcolor\":\"#E5ECF6\",\"showlakes\":true,\"showland\":true,\"subunitcolor\":\"white\"},\"hoverlabel\":{\"align\":\"left\"},\"hovermode\":\"closest\",\"mapbox\":{\"style\":\"light\"},\"paper_bgcolor\":\"white\",\"plot_bgcolor\":\"#E5ECF6\",\"polar\":{\"angularaxis\":{\"gridcolor\":\"white\",\"linecolor\":\"white\",\"ticks\":\"\"},\"bgcolor\":\"#E5ECF6\",\"radialaxis\":{\"gridcolor\":\"white\",\"linecolor\":\"white\",\"ticks\":\"\"}},\"scene\":{\"xaxis\":{\"backgroundcolor\":\"#E5ECF6\",\"gridcolor\":\"white\",\"gridwidth\":2,\"linecolor\":\"white\",\"showbackground\":true,\"ticks\":\"\",\"zerolinecolor\":\"white\"},\"yaxis\":{\"backgroundcolor\":\"#E5ECF6\",\"gridcolor\":\"white\",\"gridwidth\":2,\"linecolor\":\"white\",\"showbackground\":true,\"ticks\":\"\",\"zerolinecolor\":\"white\"},\"zaxis\":{\"backgroundcolor\":\"#E5ECF6\",\"gridcolor\":\"white\",\"gridwidth\":2,\"linecolor\":\"white\",\"showbackground\":true,\"ticks\":\"\",\"zerolinecolor\":\"white\"}},\"shapedefaults\":{\"line\":{\"color\":\"#2a3f5f\"}},\"ternary\":{\"aaxis\":{\"gridcolor\":\"white\",\"linecolor\":\"white\",\"ticks\":\"\"},\"baxis\":{\"gridcolor\":\"white\",\"linecolor\":\"white\",\"ticks\":\"\"},\"bgcolor\":\"#E5ECF6\",\"caxis\":{\"gridcolor\":\"white\",\"linecolor\":\"white\",\"ticks\":\"\"}},\"title\":{\"x\":0.05},\"xaxis\":{\"automargin\":true,\"gridcolor\":\"white\",\"linecolor\":\"white\",\"ticks\":\"\",\"title\":{\"standoff\":15},\"zerolinecolor\":\"white\",\"zerolinewidth\":2},\"yaxis\":{\"automargin\":true,\"gridcolor\":\"white\",\"linecolor\":\"white\",\"ticks\":\"\",\"title\":{\"standoff\":15},\"zerolinecolor\":\"white\",\"zerolinewidth\":2}}},\"xaxis\":{\"anchor\":\"y\",\"domain\":[0.0,1.0],\"title\":{\"text\":\"date\"}},\"yaxis\":{\"anchor\":\"x\",\"domain\":[0.0,1.0],\"title\":{\"text\":\"count\"}},\"legend\":{\"title\":{\"text\":\"type\"},\"tracegroupgap\":0},\"margin\":{\"t\":60},\"barmode\":\"relative\"},                        {\"responsive\": true}                    ).then(function(){\n",
              "                            \n",
              "var gd = document.getElementById('0b77b9c6-d149-47f8-b51e-ba3c13366e53');\n",
              "var x = new MutationObserver(function (mutations, observer) {{\n",
              "        var display = window.getComputedStyle(gd).display;\n",
              "        if (!display || display === 'none') {{\n",
              "            console.log([gd, 'removed!']);\n",
              "            Plotly.purge(gd);\n",
              "            observer.disconnect();\n",
              "        }}\n",
              "}});\n",
              "\n",
              "// Listen for the removal of the full notebook cells\n",
              "var notebookContainer = gd.closest('#notebook-container');\n",
              "if (notebookContainer) {{\n",
              "    x.observe(notebookContainer, {childList: true});\n",
              "}}\n",
              "\n",
              "// Listen for the clearing of the current output cell\n",
              "var outputEl = gd.closest('.output');\n",
              "if (outputEl) {{\n",
              "    x.observe(outputEl, {childList: true});\n",
              "}}\n",
              "\n",
              "                        })                };                            </script>        </div>\n",
              "</body>\n",
              "</html>"
            ]
          },
          "metadata": {}
        }
      ]
    },
    {
      "cell_type": "markdown",
      "source": [
        "Address with median number predictions vs nearest protest place"
      ],
      "metadata": {
        "id": "_M_2dML2nkFC"
      }
    },
    {
      "cell_type": "code",
      "source": [
        "b_big[\"count\"].median()\n",
        "b_big\n",
        "mid_pred = b_big[b_big[\"count\"]==92]\n",
        "mid_pred"
      ],
      "metadata": {
        "colab": {
          "base_uri": "https://localhost:8080/",
          "height": 80
        },
        "id": "S3BFv6E0eFX-",
        "outputId": "c58d93ce-0f4d-47f5-97cf-041c3ba31c13"
      },
      "execution_count": null,
      "outputs": [
        {
          "output_type": "execute_result",
          "data": {
            "text/html": [
              "\n",
              "  <div id=\"df-de8b7515-57ff-4d64-b2d0-21b11fb3ed06\">\n",
              "    <div class=\"colab-df-container\">\n",
              "      <div>\n",
              "<style scoped>\n",
              "    .dataframe tbody tr th:only-of-type {\n",
              "        vertical-align: middle;\n",
              "    }\n",
              "\n",
              "    .dataframe tbody tr th {\n",
              "        vertical-align: top;\n",
              "    }\n",
              "\n",
              "    .dataframe thead th {\n",
              "        text-align: right;\n",
              "    }\n",
              "</style>\n",
              "<table border=\"1\" class=\"dataframe\">\n",
              "  <thead>\n",
              "    <tr style=\"text-align: right;\">\n",
              "      <th></th>\n",
              "      <th>lat</th>\n",
              "      <th>lon</th>\n",
              "      <th>address</th>\n",
              "      <th>count</th>\n",
              "    </tr>\n",
              "  </thead>\n",
              "  <tbody>\n",
              "    <tr>\n",
              "      <th>18</th>\n",
              "      <td>26.2305</td>\n",
              "      <td>50.5301</td>\n",
              "      <td>طريق : 3423</td>\n",
              "      <td>92</td>\n",
              "    </tr>\n",
              "  </tbody>\n",
              "</table>\n",
              "</div>\n",
              "      <button class=\"colab-df-convert\" onclick=\"convertToInteractive('df-de8b7515-57ff-4d64-b2d0-21b11fb3ed06')\"\n",
              "              title=\"Convert this dataframe to an interactive table.\"\n",
              "              style=\"display:none;\">\n",
              "        \n",
              "  <svg xmlns=\"http://www.w3.org/2000/svg\" height=\"24px\"viewBox=\"0 0 24 24\"\n",
              "       width=\"24px\">\n",
              "    <path d=\"M0 0h24v24H0V0z\" fill=\"none\"/>\n",
              "    <path d=\"M18.56 5.44l.94 2.06.94-2.06 2.06-.94-2.06-.94-.94-2.06-.94 2.06-2.06.94zm-11 1L8.5 8.5l.94-2.06 2.06-.94-2.06-.94L8.5 2.5l-.94 2.06-2.06.94zm10 10l.94 2.06.94-2.06 2.06-.94-2.06-.94-.94-2.06-.94 2.06-2.06.94z\"/><path d=\"M17.41 7.96l-1.37-1.37c-.4-.4-.92-.59-1.43-.59-.52 0-1.04.2-1.43.59L10.3 9.45l-7.72 7.72c-.78.78-.78 2.05 0 2.83L4 21.41c.39.39.9.59 1.41.59.51 0 1.02-.2 1.41-.59l7.78-7.78 2.81-2.81c.8-.78.8-2.07 0-2.86zM5.41 20L4 18.59l7.72-7.72 1.47 1.35L5.41 20z\"/>\n",
              "  </svg>\n",
              "      </button>\n",
              "      \n",
              "  <style>\n",
              "    .colab-df-container {\n",
              "      display:flex;\n",
              "      flex-wrap:wrap;\n",
              "      gap: 12px;\n",
              "    }\n",
              "\n",
              "    .colab-df-convert {\n",
              "      background-color: #E8F0FE;\n",
              "      border: none;\n",
              "      border-radius: 50%;\n",
              "      cursor: pointer;\n",
              "      display: none;\n",
              "      fill: #1967D2;\n",
              "      height: 32px;\n",
              "      padding: 0 0 0 0;\n",
              "      width: 32px;\n",
              "    }\n",
              "\n",
              "    .colab-df-convert:hover {\n",
              "      background-color: #E2EBFA;\n",
              "      box-shadow: 0px 1px 2px rgba(60, 64, 67, 0.3), 0px 1px 3px 1px rgba(60, 64, 67, 0.15);\n",
              "      fill: #174EA6;\n",
              "    }\n",
              "\n",
              "    [theme=dark] .colab-df-convert {\n",
              "      background-color: #3B4455;\n",
              "      fill: #D2E3FC;\n",
              "    }\n",
              "\n",
              "    [theme=dark] .colab-df-convert:hover {\n",
              "      background-color: #434B5C;\n",
              "      box-shadow: 0px 1px 3px 1px rgba(0, 0, 0, 0.15);\n",
              "      filter: drop-shadow(0px 1px 2px rgba(0, 0, 0, 0.3));\n",
              "      fill: #FFFFFF;\n",
              "    }\n",
              "  </style>\n",
              "\n",
              "      <script>\n",
              "        const buttonEl =\n",
              "          document.querySelector('#df-de8b7515-57ff-4d64-b2d0-21b11fb3ed06 button.colab-df-convert');\n",
              "        buttonEl.style.display =\n",
              "          google.colab.kernel.accessAllowed ? 'block' : 'none';\n",
              "\n",
              "        async function convertToInteractive(key) {\n",
              "          const element = document.querySelector('#df-de8b7515-57ff-4d64-b2d0-21b11fb3ed06');\n",
              "          const dataTable =\n",
              "            await google.colab.kernel.invokeFunction('convertToInteractive',\n",
              "                                                     [key], {});\n",
              "          if (!dataTable) return;\n",
              "\n",
              "          const docLinkHtml = 'Like what you see? Visit the ' +\n",
              "            '<a target=\"_blank\" href=https://colab.research.google.com/notebooks/data_table.ipynb>data table notebook</a>'\n",
              "            + ' to learn more about interactive tables.';\n",
              "          element.innerHTML = '';\n",
              "          dataTable['output_type'] = 'display_data';\n",
              "          await google.colab.output.renderOutput(dataTable, element);\n",
              "          const docLink = document.createElement('div');\n",
              "          docLink.innerHTML = docLinkHtml;\n",
              "          element.appendChild(docLink);\n",
              "        }\n",
              "      </script>\n",
              "    </div>\n",
              "  </div>\n",
              "  "
            ],
            "text/plain": [
              "        lat      lon      address  count\n",
              "18  26.2305  50.5301  طريق : 3423     92"
            ]
          },
          "metadata": {},
          "execution_count": 80
        }
      ]
    },
    {
      "cell_type": "code",
      "source": [
        "pred_time_3 = pandas.to_datetime(b[(b[\"lat\"]==\t26.2305) & (b[\"lon\"]==50.5301)][\"date\"])\n",
        "pred_3 = pandas.DataFrame({\"date\":pred_time_3,\n",
        "                        \"type\":\"predictions\"})\n",
        "prot_time_3 = pandas.to_datetime(protests[(protests[\"latitude\"]==26.2303)& (protests[\"longitude\"]==50.5294)& (protests[\"event_date\"]<=max(pred_3[\"date\"]))][\"event_date\"])\n",
        "prot_3 = pandas.DataFrame({\"date\":prot_time_3,\n",
        "                        \"type\":\"protests\"})\n",
        "\n",
        "m_3 = merge(pred_3,prot_3,on=[\"type\",\"date\"],how=\"outer\")"
      ],
      "metadata": {
        "id": "ZU9ZLL84ea8m"
      },
      "execution_count": null,
      "outputs": []
    },
    {
      "cell_type": "code",
      "source": [
        "#histogram(m_3,x=\"date\", facet_row=\"type\",nbins=1000,color=\"type\")"
      ],
      "metadata": {
        "id": "cYZmvcYNed9m"
      },
      "execution_count": null,
      "outputs": []
    },
    {
      "cell_type": "code",
      "source": [
        "histogram(m_3,x=\"date\",color=\"type\",nbins=1000)"
      ],
      "metadata": {
        "colab": {
          "base_uri": "https://localhost:8080/",
          "height": 542
        },
        "id": "Wp5AxJ3nebkX",
        "outputId": "20c36e28-bc53-41e1-bdd0-a42982d57ac7"
      },
      "execution_count": null,
      "outputs": [
        {
          "output_type": "display_data",
          "data": {
            "text/html": [
              "<html>\n",
              "<head><meta charset=\"utf-8\" /></head>\n",
              "<body>\n",
              "    <div>            <script src=\"https://cdnjs.cloudflare.com/ajax/libs/mathjax/2.7.5/MathJax.js?config=TeX-AMS-MML_SVG\"></script><script type=\"text/javascript\">if (window.MathJax) {MathJax.Hub.Config({SVG: {font: \"STIX-Web\"}});}</script>                <script type=\"text/javascript\">window.PlotlyConfig = {MathJaxConfig: 'local'};</script>\n",
              "        <script src=\"https://cdn.plot.ly/plotly-2.8.3.min.js\"></script>                <div id=\"078eebb6-3bb2-4990-80e8-b010259d44ed\" class=\"plotly-graph-div\" style=\"height:525px; width:100%;\"></div>            <script type=\"text/javascript\">                                    window.PLOTLYENV=window.PLOTLYENV || {};                                    if (document.getElementById(\"078eebb6-3bb2-4990-80e8-b010259d44ed\")) {                    Plotly.newPlot(                        \"078eebb6-3bb2-4990-80e8-b010259d44ed\",                        [{\"alignmentgroup\":\"True\",\"bingroup\":\"x\",\"hovertemplate\":\"type=predictions<br>date=%{x}<br>count=%{y}<extra></extra>\",\"legendgroup\":\"predictions\",\"marker\":{\"color\":\"#636efa\",\"pattern\":{\"shape\":\"\"}},\"name\":\"predictions\",\"nbinsx\":1000,\"offsetgroup\":\"predictions\",\"orientation\":\"v\",\"showlegend\":true,\"x\":[\"2018-12-14T00:00:00\",\"2019-06-01T00:00:00\",\"2019-03-29T00:00:00\",\"2019-01-07T00:00:00\",\"2019-04-20T00:00:00\",\"2019-03-26T00:00:00\",\"2019-05-07T00:00:00\",\"2019-02-24T00:00:00\",\"2019-01-08T00:00:00\",\"2019-03-30T00:00:00\",\"2019-06-18T00:00:00\",\"2019-06-06T00:00:00\",\"2019-04-13T00:00:00\",\"2019-03-15T00:00:00\",\"2019-03-21T00:00:00\",\"2019-03-04T00:00:00\",\"2019-04-02T00:00:00\",\"2019-05-25T00:00:00\",\"2019-06-09T00:00:00\",\"2019-02-23T00:00:00\",\"2019-05-23T00:00:00\",\"2019-07-04T00:00:00\",\"2019-06-11T00:00:00\",\"2019-01-09T00:00:00\",\"2019-05-18T00:00:00\",\"2019-03-27T00:00:00\",\"2019-04-21T00:00:00\",\"2018-12-15T00:00:00\",\"2019-06-25T00:00:00\",\"2019-05-06T00:00:00\",\"2019-05-09T00:00:00\",\"2019-03-28T00:00:00\",\"2019-06-16T00:00:00\",\"2019-01-10T00:00:00\",\"2018-12-03T00:00:00\",\"2019-03-20T00:00:00\",\"2019-04-26T00:00:00\",\"2018-12-26T00:00:00\",\"2019-06-07T00:00:00\",\"2018-12-12T00:00:00\",\"2018-12-29T00:00:00\",\"2019-06-22T00:00:00\",\"2019-04-12T00:00:00\",\"2019-03-31T00:00:00\",\"2019-05-27T00:00:00\",\"2019-06-15T00:00:00\",\"2019-07-09T00:00:00\",\"2019-03-18T00:00:00\",\"2019-06-30T00:00:00\",\"2018-12-11T00:00:00\",\"2019-06-21T00:00:00\",\"2019-04-11T00:00:00\",\"2019-04-07T00:00:00\",\"2018-12-19T00:00:00\",\"2018-12-22T00:00:00\",\"2019-06-12T00:00:00\",\"2019-06-29T00:00:00\",\"2019-04-22T00:00:00\",\"2019-05-05T00:00:00\",\"2019-03-24T00:00:00\",\"2019-04-08T00:00:00\",\"2019-01-05T00:00:00\",\"2019-04-16T00:00:00\",\"2019-05-14T00:00:00\",\"2018-12-08T00:00:00\",\"2019-07-01T00:00:00\",\"2019-05-12T00:00:00\",\"2019-06-20T00:00:00\",\"2018-12-10T00:00:00\",\"2019-07-07T00:00:00\",\"2019-05-29T00:00:00\",\"2019-04-24T00:00:00\",\"2019-03-22T00:00:00\",\"2019-03-07T00:00:00\",\"2019-05-26T00:00:00\",\"2019-02-28T00:00:00\",\"2018-12-01T00:00:00\",\"2019-06-02T00:00:00\",\"2018-12-17T00:00:00\",\"2019-06-27T00:00:00\",\"2019-05-30T00:00:00\",\"2019-01-04T00:00:00\",\"2019-04-17T00:00:00\",\"2019-03-11T00:00:00\",\"2018-12-09T00:00:00\",\"2019-05-21T00:00:00\",\"2019-02-27T00:00:00\",\"2019-07-11T00:00:00\",\"2019-05-04T00:00:00\",\"2019-04-06T00:00:00\",\"2019-04-23T00:00:00\",\"2018-12-06T00:00:00\"],\"xaxis\":\"x\",\"yaxis\":\"y\",\"type\":\"histogram\"},{\"alignmentgroup\":\"True\",\"bingroup\":\"x\",\"hovertemplate\":\"type=protests<br>date=%{x}<br>count=%{y}<extra></extra>\",\"legendgroup\":\"protests\",\"marker\":{\"color\":\"#EF553B\",\"pattern\":{\"shape\":\"\"}},\"name\":\"protests\",\"nbinsx\":1000,\"offsetgroup\":\"protests\",\"orientation\":\"v\",\"showlegend\":true,\"x\":[\"2019-06-23T00:00:00\",\"2019-05-31T00:00:00\",\"2019-05-30T00:00:00\",\"2019-05-22T00:00:00\",\"2019-05-06T00:00:00\",\"2019-04-28T00:00:00\",\"2019-04-27T00:00:00\",\"2019-04-12T00:00:00\",\"2019-03-22T00:00:00\",\"2019-03-18T00:00:00\",\"2019-03-13T00:00:00\",\"2019-02-22T00:00:00\",\"2019-02-14T00:00:00\",\"2019-02-14T00:00:00\",\"2019-02-13T00:00:00\"],\"xaxis\":\"x\",\"yaxis\":\"y\",\"type\":\"histogram\"}],                        {\"template\":{\"data\":{\"bar\":[{\"error_x\":{\"color\":\"#2a3f5f\"},\"error_y\":{\"color\":\"#2a3f5f\"},\"marker\":{\"line\":{\"color\":\"#E5ECF6\",\"width\":0.5},\"pattern\":{\"fillmode\":\"overlay\",\"size\":10,\"solidity\":0.2}},\"type\":\"bar\"}],\"barpolar\":[{\"marker\":{\"line\":{\"color\":\"#E5ECF6\",\"width\":0.5},\"pattern\":{\"fillmode\":\"overlay\",\"size\":10,\"solidity\":0.2}},\"type\":\"barpolar\"}],\"carpet\":[{\"aaxis\":{\"endlinecolor\":\"#2a3f5f\",\"gridcolor\":\"white\",\"linecolor\":\"white\",\"minorgridcolor\":\"white\",\"startlinecolor\":\"#2a3f5f\"},\"baxis\":{\"endlinecolor\":\"#2a3f5f\",\"gridcolor\":\"white\",\"linecolor\":\"white\",\"minorgridcolor\":\"white\",\"startlinecolor\":\"#2a3f5f\"},\"type\":\"carpet\"}],\"choropleth\":[{\"colorbar\":{\"outlinewidth\":0,\"ticks\":\"\"},\"type\":\"choropleth\"}],\"contour\":[{\"colorbar\":{\"outlinewidth\":0,\"ticks\":\"\"},\"colorscale\":[[0.0,\"#0d0887\"],[0.1111111111111111,\"#46039f\"],[0.2222222222222222,\"#7201a8\"],[0.3333333333333333,\"#9c179e\"],[0.4444444444444444,\"#bd3786\"],[0.5555555555555556,\"#d8576b\"],[0.6666666666666666,\"#ed7953\"],[0.7777777777777778,\"#fb9f3a\"],[0.8888888888888888,\"#fdca26\"],[1.0,\"#f0f921\"]],\"type\":\"contour\"}],\"contourcarpet\":[{\"colorbar\":{\"outlinewidth\":0,\"ticks\":\"\"},\"type\":\"contourcarpet\"}],\"heatmap\":[{\"colorbar\":{\"outlinewidth\":0,\"ticks\":\"\"},\"colorscale\":[[0.0,\"#0d0887\"],[0.1111111111111111,\"#46039f\"],[0.2222222222222222,\"#7201a8\"],[0.3333333333333333,\"#9c179e\"],[0.4444444444444444,\"#bd3786\"],[0.5555555555555556,\"#d8576b\"],[0.6666666666666666,\"#ed7953\"],[0.7777777777777778,\"#fb9f3a\"],[0.8888888888888888,\"#fdca26\"],[1.0,\"#f0f921\"]],\"type\":\"heatmap\"}],\"heatmapgl\":[{\"colorbar\":{\"outlinewidth\":0,\"ticks\":\"\"},\"colorscale\":[[0.0,\"#0d0887\"],[0.1111111111111111,\"#46039f\"],[0.2222222222222222,\"#7201a8\"],[0.3333333333333333,\"#9c179e\"],[0.4444444444444444,\"#bd3786\"],[0.5555555555555556,\"#d8576b\"],[0.6666666666666666,\"#ed7953\"],[0.7777777777777778,\"#fb9f3a\"],[0.8888888888888888,\"#fdca26\"],[1.0,\"#f0f921\"]],\"type\":\"heatmapgl\"}],\"histogram\":[{\"marker\":{\"pattern\":{\"fillmode\":\"overlay\",\"size\":10,\"solidity\":0.2}},\"type\":\"histogram\"}],\"histogram2d\":[{\"colorbar\":{\"outlinewidth\":0,\"ticks\":\"\"},\"colorscale\":[[0.0,\"#0d0887\"],[0.1111111111111111,\"#46039f\"],[0.2222222222222222,\"#7201a8\"],[0.3333333333333333,\"#9c179e\"],[0.4444444444444444,\"#bd3786\"],[0.5555555555555556,\"#d8576b\"],[0.6666666666666666,\"#ed7953\"],[0.7777777777777778,\"#fb9f3a\"],[0.8888888888888888,\"#fdca26\"],[1.0,\"#f0f921\"]],\"type\":\"histogram2d\"}],\"histogram2dcontour\":[{\"colorbar\":{\"outlinewidth\":0,\"ticks\":\"\"},\"colorscale\":[[0.0,\"#0d0887\"],[0.1111111111111111,\"#46039f\"],[0.2222222222222222,\"#7201a8\"],[0.3333333333333333,\"#9c179e\"],[0.4444444444444444,\"#bd3786\"],[0.5555555555555556,\"#d8576b\"],[0.6666666666666666,\"#ed7953\"],[0.7777777777777778,\"#fb9f3a\"],[0.8888888888888888,\"#fdca26\"],[1.0,\"#f0f921\"]],\"type\":\"histogram2dcontour\"}],\"mesh3d\":[{\"colorbar\":{\"outlinewidth\":0,\"ticks\":\"\"},\"type\":\"mesh3d\"}],\"parcoords\":[{\"line\":{\"colorbar\":{\"outlinewidth\":0,\"ticks\":\"\"}},\"type\":\"parcoords\"}],\"pie\":[{\"automargin\":true,\"type\":\"pie\"}],\"scatter\":[{\"marker\":{\"colorbar\":{\"outlinewidth\":0,\"ticks\":\"\"}},\"type\":\"scatter\"}],\"scatter3d\":[{\"line\":{\"colorbar\":{\"outlinewidth\":0,\"ticks\":\"\"}},\"marker\":{\"colorbar\":{\"outlinewidth\":0,\"ticks\":\"\"}},\"type\":\"scatter3d\"}],\"scattercarpet\":[{\"marker\":{\"colorbar\":{\"outlinewidth\":0,\"ticks\":\"\"}},\"type\":\"scattercarpet\"}],\"scattergeo\":[{\"marker\":{\"colorbar\":{\"outlinewidth\":0,\"ticks\":\"\"}},\"type\":\"scattergeo\"}],\"scattergl\":[{\"marker\":{\"colorbar\":{\"outlinewidth\":0,\"ticks\":\"\"}},\"type\":\"scattergl\"}],\"scattermapbox\":[{\"marker\":{\"colorbar\":{\"outlinewidth\":0,\"ticks\":\"\"}},\"type\":\"scattermapbox\"}],\"scatterpolar\":[{\"marker\":{\"colorbar\":{\"outlinewidth\":0,\"ticks\":\"\"}},\"type\":\"scatterpolar\"}],\"scatterpolargl\":[{\"marker\":{\"colorbar\":{\"outlinewidth\":0,\"ticks\":\"\"}},\"type\":\"scatterpolargl\"}],\"scatterternary\":[{\"marker\":{\"colorbar\":{\"outlinewidth\":0,\"ticks\":\"\"}},\"type\":\"scatterternary\"}],\"surface\":[{\"colorbar\":{\"outlinewidth\":0,\"ticks\":\"\"},\"colorscale\":[[0.0,\"#0d0887\"],[0.1111111111111111,\"#46039f\"],[0.2222222222222222,\"#7201a8\"],[0.3333333333333333,\"#9c179e\"],[0.4444444444444444,\"#bd3786\"],[0.5555555555555556,\"#d8576b\"],[0.6666666666666666,\"#ed7953\"],[0.7777777777777778,\"#fb9f3a\"],[0.8888888888888888,\"#fdca26\"],[1.0,\"#f0f921\"]],\"type\":\"surface\"}],\"table\":[{\"cells\":{\"fill\":{\"color\":\"#EBF0F8\"},\"line\":{\"color\":\"white\"}},\"header\":{\"fill\":{\"color\":\"#C8D4E3\"},\"line\":{\"color\":\"white\"}},\"type\":\"table\"}]},\"layout\":{\"annotationdefaults\":{\"arrowcolor\":\"#2a3f5f\",\"arrowhead\":0,\"arrowwidth\":1},\"autotypenumbers\":\"strict\",\"coloraxis\":{\"colorbar\":{\"outlinewidth\":0,\"ticks\":\"\"}},\"colorscale\":{\"diverging\":[[0,\"#8e0152\"],[0.1,\"#c51b7d\"],[0.2,\"#de77ae\"],[0.3,\"#f1b6da\"],[0.4,\"#fde0ef\"],[0.5,\"#f7f7f7\"],[0.6,\"#e6f5d0\"],[0.7,\"#b8e186\"],[0.8,\"#7fbc41\"],[0.9,\"#4d9221\"],[1,\"#276419\"]],\"sequential\":[[0.0,\"#0d0887\"],[0.1111111111111111,\"#46039f\"],[0.2222222222222222,\"#7201a8\"],[0.3333333333333333,\"#9c179e\"],[0.4444444444444444,\"#bd3786\"],[0.5555555555555556,\"#d8576b\"],[0.6666666666666666,\"#ed7953\"],[0.7777777777777778,\"#fb9f3a\"],[0.8888888888888888,\"#fdca26\"],[1.0,\"#f0f921\"]],\"sequentialminus\":[[0.0,\"#0d0887\"],[0.1111111111111111,\"#46039f\"],[0.2222222222222222,\"#7201a8\"],[0.3333333333333333,\"#9c179e\"],[0.4444444444444444,\"#bd3786\"],[0.5555555555555556,\"#d8576b\"],[0.6666666666666666,\"#ed7953\"],[0.7777777777777778,\"#fb9f3a\"],[0.8888888888888888,\"#fdca26\"],[1.0,\"#f0f921\"]]},\"colorway\":[\"#636efa\",\"#EF553B\",\"#00cc96\",\"#ab63fa\",\"#FFA15A\",\"#19d3f3\",\"#FF6692\",\"#B6E880\",\"#FF97FF\",\"#FECB52\"],\"font\":{\"color\":\"#2a3f5f\"},\"geo\":{\"bgcolor\":\"white\",\"lakecolor\":\"white\",\"landcolor\":\"#E5ECF6\",\"showlakes\":true,\"showland\":true,\"subunitcolor\":\"white\"},\"hoverlabel\":{\"align\":\"left\"},\"hovermode\":\"closest\",\"mapbox\":{\"style\":\"light\"},\"paper_bgcolor\":\"white\",\"plot_bgcolor\":\"#E5ECF6\",\"polar\":{\"angularaxis\":{\"gridcolor\":\"white\",\"linecolor\":\"white\",\"ticks\":\"\"},\"bgcolor\":\"#E5ECF6\",\"radialaxis\":{\"gridcolor\":\"white\",\"linecolor\":\"white\",\"ticks\":\"\"}},\"scene\":{\"xaxis\":{\"backgroundcolor\":\"#E5ECF6\",\"gridcolor\":\"white\",\"gridwidth\":2,\"linecolor\":\"white\",\"showbackground\":true,\"ticks\":\"\",\"zerolinecolor\":\"white\"},\"yaxis\":{\"backgroundcolor\":\"#E5ECF6\",\"gridcolor\":\"white\",\"gridwidth\":2,\"linecolor\":\"white\",\"showbackground\":true,\"ticks\":\"\",\"zerolinecolor\":\"white\"},\"zaxis\":{\"backgroundcolor\":\"#E5ECF6\",\"gridcolor\":\"white\",\"gridwidth\":2,\"linecolor\":\"white\",\"showbackground\":true,\"ticks\":\"\",\"zerolinecolor\":\"white\"}},\"shapedefaults\":{\"line\":{\"color\":\"#2a3f5f\"}},\"ternary\":{\"aaxis\":{\"gridcolor\":\"white\",\"linecolor\":\"white\",\"ticks\":\"\"},\"baxis\":{\"gridcolor\":\"white\",\"linecolor\":\"white\",\"ticks\":\"\"},\"bgcolor\":\"#E5ECF6\",\"caxis\":{\"gridcolor\":\"white\",\"linecolor\":\"white\",\"ticks\":\"\"}},\"title\":{\"x\":0.05},\"xaxis\":{\"automargin\":true,\"gridcolor\":\"white\",\"linecolor\":\"white\",\"ticks\":\"\",\"title\":{\"standoff\":15},\"zerolinecolor\":\"white\",\"zerolinewidth\":2},\"yaxis\":{\"automargin\":true,\"gridcolor\":\"white\",\"linecolor\":\"white\",\"ticks\":\"\",\"title\":{\"standoff\":15},\"zerolinecolor\":\"white\",\"zerolinewidth\":2}}},\"xaxis\":{\"anchor\":\"y\",\"domain\":[0.0,1.0],\"title\":{\"text\":\"date\"}},\"yaxis\":{\"anchor\":\"x\",\"domain\":[0.0,1.0],\"title\":{\"text\":\"count\"}},\"legend\":{\"title\":{\"text\":\"type\"},\"tracegroupgap\":0},\"margin\":{\"t\":60},\"barmode\":\"relative\"},                        {\"responsive\": true}                    ).then(function(){\n",
              "                            \n",
              "var gd = document.getElementById('078eebb6-3bb2-4990-80e8-b010259d44ed');\n",
              "var x = new MutationObserver(function (mutations, observer) {{\n",
              "        var display = window.getComputedStyle(gd).display;\n",
              "        if (!display || display === 'none') {{\n",
              "            console.log([gd, 'removed!']);\n",
              "            Plotly.purge(gd);\n",
              "            observer.disconnect();\n",
              "        }}\n",
              "}});\n",
              "\n",
              "// Listen for the removal of the full notebook cells\n",
              "var notebookContainer = gd.closest('#notebook-container');\n",
              "if (notebookContainer) {{\n",
              "    x.observe(notebookContainer, {childList: true});\n",
              "}}\n",
              "\n",
              "// Listen for the clearing of the current output cell\n",
              "var outputEl = gd.closest('.output');\n",
              "if (outputEl) {{\n",
              "    x.observe(outputEl, {childList: true});\n",
              "}}\n",
              "\n",
              "                        })                };                            </script>        </div>\n",
              "</body>\n",
              "</html>"
            ]
          },
          "metadata": {}
        }
      ]
    },
    {
      "cell_type": "markdown",
      "source": [
        "History can be a huge predictor of protests and this correlation speaks for itself when we look at February 18, 2018, when protests erupted across the kingdom of Bahrain on the seventh anniversary of the February 14, 2011 protests. The significance of the protest predictions between December 2018 through 2019 is that they were fairly accurate. But the question is how did they know when to predict the protests?\n",
        "\n",
        "The 2019 protests in the kingdom of Bahrain included mass protests, civil unrest and popular disturbances that culminated into an uprising and violent demonstrations. These protests were prompted by the mass protests against the executions by the authorities of two Shia Muslim activists for terrorism-related charges in Bahrain in July 2019. These protests were also against the leader and the Sunni-led regime, reviving the same demands of the 2011 Bahraini uprising. According to a [news article](https://www.voanews.com/a/middle-east_renewed-unrest-grips-bahrain-after-authorities-execute-activists/6172826.html) of the July protests, Police fired tear gas to disperse hundreds of demonstrators in Bilad al-Qadeem suburb where one protester died from gas inhalation.\n",
        "\n",
        "As we can see from the chart, the predictions were pretty accurate. These predictions could have been very benefitial for the Prime Minister and military of the kingdom of Bahrain in that the military were ready to control the level of violence created by the protesters when the time came. This prediction ability could also be useful for surrounding areas as well. But predictions could also cause more harm to protestors by increasing military numbers and causing more violence than there would have been before.\n",
        "\n",
        "\n"
      ],
      "metadata": {
        "id": "vGdt8ED0B6MI"
      }
    }
  ]
}
